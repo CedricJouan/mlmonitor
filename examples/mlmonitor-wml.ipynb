{
 "cells": [
  {
   "attachments": {},
   "cell_type": "markdown",
   "id": "e6d1d87f",
   "metadata": {
    "id": "ca57299e-851e-4d15-aad6-7f8db9c6de76",
    "papermill": {
     "duration": 0.018505,
     "end_time": "2021-06-07T00:09:44.379517",
     "exception": false,
     "start_time": "2021-06-07T00:09:44.361012",
     "status": "completed"
    },
    "tags": []
   },
   "source": [
    "# ML Model Onboarding  Accelerator - Watson Machine Learning\n",
    "_**Automate Watson Machine Learning Model Onboarding process - Governance in AI Factsheets - Monitoring in Watson OpenScale**_\n",
    "\n",
    "### how to use <i>mlmonitor</i> client\n",
    "- [Initialize token](#tokens)\n",
    "- [Train model in WML](#train_wml_job)\n",
    "- [Deploy Online model](#deploy_wml_endpoint)\n",
    "- [Score model](#score_endpoint)\n",
    "- [Configure Monitoring](#monitor_endpoint)\n",
    "- [Configure Quality](#quality_monitor)\n",
    "- [Configure Explainability](#explain_monitor)\n",
    "- [Configure Fairness Monitoring](#fairness_monitor)\n",
    "- [Configure Drift Monitoring](#drift_monitor)\n",
    "- [Log feedback data](#feedback_logging)\n",
    "- [Log payload data](#payload_logging)\n",
    "- [Evaluate monitors](#evaluate_monitors)\n",
    "- [Drift Scenario](#data_drift_scenario)\n",
    "- [Delete Deployment](#delete_resources)\n",
    "---"
   ]
  },
  {
   "attachments": {},
   "cell_type": "markdown",
   "id": "14716a6a-d167-4a72-ad17-edb98f436f0f",
   "metadata": {
    "id": "0042efa3-121b-4926-9742-afeee0ce3af1"
   },
   "source": [
    "#### setup credentials for mlmonitor library"
   ]
  },
  {
   "cell_type": "code",
   "execution_count": 9,
   "id": "67adcd75-bdcd-4678-9cc9-c90d8fb0c5c0",
   "metadata": {
    "id": "cfea9a79-19fb-4990-bb0c-64235f9b6b93",
    "is_executing": true
   },
   "outputs": [],
   "source": [
    "import os\n",
    "import sys\n",
    "import json\n",
    "\n",
    "os.environ['ENV'] = 'prem'\n",
    "os.environ['LOG_LEVEL'] = '10'\n",
    "os.environ['VERIFY_CP4D_SSL'] = \"False\"\n",
    "config_filename = 'credentials_uploaded2cp4d_prem.cfg'\n",
    "\n",
    "\n",
    "lib_path = os.path.abspath('../')\n",
    "sys.path.append(lib_path)\n",
    "os.environ['MONITOR_CONFIG_FILE'] = os.path.join(lib_path, config_filename)"
   ]
  },
  {
   "attachments": {},
   "cell_type": "markdown",
   "id": "6936f75c-f4e6-451f-adfc-cc7da3b01f03",
   "metadata": {
    "id": "adcd1ed8-e3bf-4ffb-b131-7198221911c0"
   },
   "source": [
    "### test specific tasks from WMLModelUseCase"
   ]
  },
  {
   "cell_type": "code",
   "execution_count": 10,
   "id": "cab4cb38-2171-4c2a-899a-ab5d5ca2af7f",
   "metadata": {
    "id": "57b8b550-d6cf-42f1-b0bc-e9feb409ce29"
   },
   "outputs": [
    {
     "name": "stdout",
     "output_type": "stream",
     "text": [
      "True\n",
      "True\n",
      "\n",
      "              - trained:   [False]\n",
      "              - deployed:  [False]\n",
      "              - governed:  [False]\n",
      "              - monitored: [False]\n",
      "\n"
     ]
    }
   ],
   "source": [
    "from mlmonitor import WMLModelUseCase    \n",
    "from mlmonitor.src.demos.model_perturbator import ModelPerturbator\n",
    "\n",
    "source_dir = 'use_case_gcr'\n",
    "model_endpoint = \"local-tet-1\"\n",
    "\n",
    "\n",
    "# Model use case definition\n",
    "catalog_id = '9974a224-8dfd-4db8-b57b-537701403b30'\n",
    "model_entry_id = '0f5f6ea7-0356-49d4-ae32-bc0f6962b7fa'\n",
    "\n",
    "\n",
    "model_use_case = WMLModelUseCase(source_dir=source_dir,\n",
    "                                 catalog_id=catalog_id,\n",
    "                                 model_entry_id=model_entry_id)\n",
    "print(model_use_case._wos_configured)\n",
    "print(model_use_case._wml_configured)\n",
    "\n",
    "if model_endpoint:\n",
    "    model_use_case.derive_model_states(endpoint_name=model_endpoint)\n",
    "\n",
    "model_use_case.display_states()"
   ]
  },
  {
   "attachments": {},
   "cell_type": "markdown",
   "id": "b0e300aa-fed8-4708-984d-63dd350a70ca",
   "metadata": {
    "id": "9c597708-84ec-4f92-ae1b-c73976c48814"
   },
   "source": [
    "### Train model in WML Job <a name=\"train_wml_job\"></a>"
   ]
  },
  {
   "cell_type": "code",
   "execution_count": 3,
   "id": "da57631f",
   "metadata": {},
   "outputs": [],
   "source": [
    "from mlmonitor.src import (\n",
    "    API_KEY,\n",
    "    ENV,\n",
    "    CATALOG_ID,\n",
    "    MODEL_ENTRY_ID,\n",
    "    logger,\n",
    "    PROJECT_ROOT,\n",
    "    DATA_ROOT,\n",
    "    MODEL_ROOT,\n",
    ")"
   ]
  },
  {
   "cell_type": "code",
   "execution_count": 4,
   "id": "4fb23aaf",
   "metadata": {},
   "outputs": [
    {
     "name": "stdout",
     "output_type": "stream",
     "text": [
      "2024/03/19 07:53:49 INFO : Experiment local-tet-90 does not exist, creating new experiment\n",
      "2024/03/19 07:53:49 INFO : Experiment successfully created with ID 785127679486898573 and name local-tet-90\n",
      "2024/03/19 07:53:49 INFO : Autolog enabled Successfully\n",
      "fetch_dataset ['.DS_Store', 'german_credit_data_biased_training.csv', '.gitkeep', 'gcr_feedback_logging_with_pred_aws2.csv', 'gcr_feedback_logging_aws.csv', 'gcr_feedback_logging_with_pred_aws.csv', 'gcr_explicit_payload_logging.csv', 'test_feedback_data_gcr.csv']\n",
      "2024/03/19 07:53:50 INFO : logging results to factsheet for run_id ef92a2baf94c485393681320cf865293\n",
      "2024/03/19 07:53:52 INFO : Successfully logged results to Factsheet service for run_id ef92a2baf94c485393681320cf865293 under asset_id: 179c581f-b31e-46e4-a652-73a25de5b57e and space_id : 72e47ac8-fb23-4ac0-96b8-f593b2fce652\n",
      "2024/03/19 07:53:52 INFO : logging results to factsheet for run_id 0069be8ed1f9470a82b9cb1a81e9dbd9\n",
      "2024/03/19 07:53:53 INFO : Successfully logged results to Factsheet service for run_id 0069be8ed1f9470a82b9cb1a81e9dbd9 under asset_id: 179c581f-b31e-46e4-a652-73a25de5b57e and space_id : 72e47ac8-fb23-4ac0-96b8-f593b2fce652\n",
      "2024/03/19 07:53:54 INFO : logging results to factsheet for run_id b7d07e2d5ddf474bb0d25b0d6f07aab7\n",
      "2024/03/19 07:53:55 INFO : Successfully logged results to Factsheet service for run_id b7d07e2d5ddf474bb0d25b0d6f07aab7 under asset_id: 179c581f-b31e-46e4-a652-73a25de5b57e and space_id : 72e47ac8-fb23-4ac0-96b8-f593b2fce652\n",
      "2024/03/19 07:53:56 INFO : logging results to factsheet for run_id 778403d4fd764659a2ae7611ad27e38a\n",
      "2024/03/19 07:53:57 INFO : Successfully logged results to Factsheet service for run_id 778403d4fd764659a2ae7611ad27e38a under asset_id: 179c581f-b31e-46e4-a652-73a25de5b57e and space_id : 72e47ac8-fb23-4ac0-96b8-f593b2fce652\n"
     ]
    }
   ],
   "source": [
    "import importlib\n",
    "\n",
    "train = getattr(\n",
    "    importlib.import_module(\n",
    "        f\"mlmonitor.{model_use_case._model_config.source_dir}.{model_use_case._model_config.train_module}\"\n",
    "    ),\n",
    "    model_use_case._model_config.train_method,\n",
    ")\n",
    "\n",
    "parameters = model_use_case._model_config.hyperparameters\n",
    "\n",
    "# Specifying endpoints if not already assigned\n",
    "if not model_use_case.model_endpoint:\n",
    "    model_use_case.model_endpoint = model_use_case._assign_model_endpoint()\n",
    "\n",
    "(\n",
    "    facts_client,\n",
    "    model_props,\n",
    "    _,\n",
    "    experiment_id,\n",
    "    fs_tags,\n",
    ") = model_use_case.init_internal_fs_client(\n",
    "    logger=logger,\n",
    "    catalog_id=model_use_case.catalog_id,\n",
    "    model_entry_id=model_use_case.model_entry_id,\n",
    ")\n",
    "\n",
    "# Dictionary of metrics, dict of params, dict of tags\n",
    "model_data = train(\n",
    "    model_dir=MODEL_ROOT,\n",
    "    data_path=os.path.join(DATA_ROOT, model_use_case._model_config.data_dir),\n",
    "    train_dataset=model_use_case._model_config.training_data,\n",
    "    val_dataset=model_use_case._model_config.validation_data,\n",
    "    test_dataset=model_use_case._model_config.test_data,\n",
    "    logger=logger,\n",
    "    **parameters,\n",
    ")\n",
    "\n",
    "model_use_case.is_trained = True\n",
    "model_use_case.model_data = model_data\n",
    "\n",
    "\n"
   ]
  },
  {
   "cell_type": "code",
   "execution_count": 5,
   "id": "5f30b134",
   "metadata": {},
   "outputs": [
    {
     "name": "stdout",
     "output_type": "stream",
     "text": [
      "Uploading item to bucket: ice-demo-prem, key: german_credit_data_biased_training.csv\n",
      "Creating connections...\n",
      "SUCCESS\n"
     ]
    }
   ],
   "source": [
    "# SPDX-License-Identifier: Apache-2.0\n",
    "import os\n",
    "import joblib\n",
    "import re\n",
    "\n",
    "from ibm_watson_machine_learning import APIClient\n",
    "from mlmonitor.src.wml import wml_client as WML_CLIENT, WML_SPACE_ID\n",
    "from mlmonitor.src import API_KEY, logger, DATA_ROOT\n",
    "from mlmonitor.src.utils.validation import validate_hdf_file, is_csv\n",
    "from mlmonitor.src.utils.file_utils import make_model_tgzfile\n",
    "from mlmonitor.src.model.config_wml import WMLModelconfig\n",
    "from mlmonitor.data import BUCKET_NAME, COS_ENDPOINT, COS_RESOURCE_CRN\n",
    "\n",
    "\n",
    "\n",
    "framework = model_use_case._model_config.inference_framework\n",
    "\n",
    "if framework == \"scikit-learn\":\n",
    "    logger.info(f\"{framework} => Reloading model from joblib\")\n",
    "    model = joblib.load(model_data)\n",
    "\n",
    "elif framework == \"tensorflow\":\n",
    "    logger.info(f\"{framework} => Generate model archive for upload\")\n",
    "    is_h5 = validate_hdf_file(model_data)\n",
    "\n",
    "    if not is_h5:\n",
    "        raise ValueError(\"Invalid model file should be a valid hdf (.h5) file\")\n",
    "\n",
    "    model_details = re.match(r\"^(/.*)/(.*).h5$\", model_data)\n",
    "    output_tgz_name = f\"{model_details[2]}.tgz\"\n",
    "    model_filename = f\"{model_details[2]}.h5\"\n",
    "    model_path = model_details[1]\n",
    "    model = make_model_tgzfile(\n",
    "        output_filename=output_tgz_name,\n",
    "        source_dir=model_path,\n",
    "        filename=model_filename,\n",
    "    )\n",
    "\n",
    "elif framework == \"xgboost\":\n",
    "    logger.info(f\"{framework} => Reloading model from joblib\")\n",
    "    model = joblib.load(model_data)\n",
    "else:\n",
    "    raise ValueError('Invalid framework [\"scikit-learn\", \"tensorflow\", \"xgboost\"]')\n",
    "\n",
    "######################################################################\n",
    "# RETRIEVE MODEL USE CASE SPECIFIC CONFIGURATION DETAILS (SIGNATURE) #\n",
    "######################################################################\n",
    "data_type = model_use_case._model_config.data_type\n",
    "\n",
    "framework_version = model_use_case._model_config.inference_framework_version\n",
    "target = model_use_case._model_config.class_label\n",
    "\n",
    "train_data_path = model_use_case._model_config._get_data_location(dataset_type=\"train\")\n",
    "dataset_is_csv = is_csv(train_data_path)\n",
    "\n",
    "dataset = model_use_case._model_config._get_data(dataset_type=\"train\")\n",
    "\n",
    "if data_type == \"structured\":\n",
    "\n",
    "    scoring_df = dataset.loc[:, model_use_case._model_config.feature_columns]\n",
    "    labels = dataset[target]\n",
    "\n",
    "elif data_type == \"unstructured_image\":\n",
    "\n",
    "    samples, labels = dataset\n",
    "    logger.info(\"samples shape sent for inference\", samples.shape)\n",
    "\n",
    "    scoring_df = None\n",
    "    labels = None\n",
    "\n",
    "WML_CLIENT.set.default_space(space_uid=WML_SPACE_ID)\n",
    "\n",
    "##########################\n",
    "# Create Model Asset     #\n",
    "##########################\n",
    "\n",
    "software_spec_uid = WML_CLIENT.software_specifications.get_id_by_name(\n",
    "    model_use_case._model_config.inference_instance\n",
    ")\n",
    "logger.info(\n",
    "    f\"Software Specification {model_use_case._model_config.inference_instance} ID: {software_spec_uid}\"\n",
    ")\n",
    "\n",
    "model_props = {\n",
    "    WML_CLIENT._models.ConfigurationMetaNames.NAME: model_use_case.model_endpoint,\n",
    "    WML_CLIENT._models.ConfigurationMetaNames.TYPE: f\"{framework}_{framework_version}\",\n",
    "    WML_CLIENT._models.ConfigurationMetaNames.SOFTWARE_SPEC_UID: software_spec_uid,\n",
    "}\n",
    "\n",
    "###############################################################################\n",
    "# Create TRAINING DATA REFERENCE  (COS Bucket only) for structured datasets   #\n",
    "###############################################################################\n",
    "if data_type == \"structured\" and dataset_is_csv:\n",
    "    from mlmonitor.data.cos import put_item\n",
    "    from mlmonitor.src import IAM_URL\n",
    "    from mlmonitor.data import CLOUD_API_KEY\n",
    "\n",
    "    # TODO training_data_references for CP4D on prem should be DB2\n",
    "    put_item(\n",
    "        item_name=model_use_case._model_config.training_data,\n",
    "        item_path=os.path.join(DATA_ROOT, model_use_case._model_config.data_dir),\n",
    "    )\n",
    "    datasource_type = WML_CLIENT.connections.get_datasource_type_uid_by_name(\n",
    "        \"bluemixcloudobjectstorage\"\n",
    "    )\n",
    "    conn_meta_props = {\n",
    "        WML_CLIENT.connections.ConfigurationMetaNames.NAME: f\"COS Connection for {model_use_case.model_endpoint}\",\n",
    "        WML_CLIENT.connections.ConfigurationMetaNames.DATASOURCE_TYPE: datasource_type,\n",
    "        WML_CLIENT.connections.ConfigurationMetaNames.DESCRIPTION: \"Connection to COS\",\n",
    "        WML_CLIENT.connections.ConfigurationMetaNames.PROPERTIES: {\n",
    "            \"bucket\": BUCKET_NAME,\n",
    "            \"api_key\": CLOUD_API_KEY,\n",
    "            \"resource_instance_id\": COS_RESOURCE_CRN,\n",
    "            \"iam_url\": IAM_URL,\n",
    "            \"url\": COS_ENDPOINT,\n",
    "        },\n",
    "    }\n",
    "\n",
    "    # Data source details\n",
    "    conn_details = WML_CLIENT.connections.create(meta_props=conn_meta_props)\n",
    "    connection_id = WML_CLIENT.connections.get_uid(conn_details)\n",
    "\n",
    "    training_data_references = [\n",
    "        {\n",
    "            \"id\": model_use_case.model_endpoint,\n",
    "            \"type\": \"connection_asset\",\n",
    "            \"connection\": {\n",
    "                \"id\": connection_id,\n",
    "                \"href\": f\"/v2/connections/{connection_id}?space_id={WML_SPACE_ID}\",\n",
    "            },\n",
    "            \"location\": {\n",
    "                \"bucket\": BUCKET_NAME,\n",
    "                \"file_name\": model_use_case._model_config.training_data,\n",
    "            },\n",
    "        }\n",
    "    ]\n",
    "\n",
    "    model_props[\n",
    "        WML_CLIENT._models.ConfigurationMetaNames.TRAINING_DATA_REFERENCES\n",
    "    ] = training_data_references\n",
    "    model_props[WML_CLIENT._models.ConfigurationMetaNames.LABEL_FIELD] = target\n",
    "\n",
    "##########################\n",
    "# Create Model Asset     #\n",
    "##########################\n",
    "facts_client.export_facts.prepare_model_meta(WML_CLIENT, model_props)\n",
    "\n",
    "logger.info(f\"Storing model to deployment space {WML_SPACE_ID}\")\n",
    "published_model_details = WML_CLIENT.repository.store_model(\n",
    "    model=model,\n",
    "    meta_props=model_props,\n",
    "    training_data=scoring_df,\n",
    "    training_target=labels,\n",
    ")\n",
    "\n",
    "model_uid = WML_CLIENT.repository.get_model_id(published_model_details)\n",
    "logger.info(f\"Model Asset creation Completed with Model ID: {model_uid}\")\n",
    "\n",
    "if data_type == \"unstructured_image\":\n",
    "    os.remove(model)\n"
   ]
  },
  {
   "cell_type": "code",
   "execution_count": 6,
   "id": "b99919a0",
   "metadata": {},
   "outputs": [
    {
     "name": "stdout",
     "output_type": "stream",
     "text": [
      "2024/03/19 07:54:08 INFO : Initiating logging to factsheet for run_id......778403d4fd764659a2ae7611ad27e38a\n",
      "2024/03/19 07:54:10 INFO : Successfully logged results to Factsheet service for run_id 778403d4fd764659a2ae7611ad27e38a under asset_id: 179c581f-b31e-46e4-a652-73a25de5b57e and space_id : 72e47ac8-fb23-4ac0-96b8-f593b2fce652\n"
     ]
    }
   ],
   "source": [
    "model_use_case.model_uid = model_uid\n",
    "\n",
    "run_id = facts_client.runs.get_current_run_id()\n",
    "\n",
    "if len(fs_tags) > 0:\n",
    "    facts_client.runs.set_tags(run_id, fs_tags)\n",
    "    logger.debug(\n",
    "        f\"save_fs_model Factsheets tags :\\n{json.dumps(fs_tags, indent=4)}\"\n",
    "    )\n",
    "\n",
    "# Exporting facts\n",
    "logger.info(f\"Current Experiment ID {experiment_id}\")\n",
    "runs = facts_client.runs.list_runs_by_experiment(experiment_id)\n",
    "logger.info(f\"Runs :\\n{runs}\")\n",
    "\n",
    "facts_client.export_facts.export_payload(run_id)"
   ]
  },
  {
   "cell_type": "code",
   "execution_count": 8,
   "id": "0d051080",
   "metadata": {},
   "outputs": [
    {
     "name": "stdout",
     "output_type": "stream",
     "text": [
      "2024/03/19 07:54:42 INFO : Current model information: {'asset_id': 'b7196642-e0c7-4c2b-a378-60c598e0fa5d', 'container_type': 'space', 'container_id': '72e47ac8-fb23-4ac0-96b8-f593b2fce652', 'facts_type': 'modelfacts_user'}\n",
      "2024/03/19 07:54:43 INFO : Current model usecase information: {'model_usecase_id': '0f5f6ea7-0356-49d4-ae32-bc0f6962b7fa', 'container_type': 'catalog', 'catalog_id': '9974a224-8dfd-4db8-b57b-537701403b30', 'facts_type': 'model_entry_user'}\n",
      "2024/03/19 07:54:44 INFO : Approaches retrieved successfully\n",
      "2024/03/19 07:54:45 INFO : Initiate linking model to existing model use case 0f5f6ea7-0356-49d4-ae32-bc0f6962b7fa\n",
      "2024/03/19 07:55:17 INFO : Model registration failed\n"
     ]
    },
    {
     "ename": "ClientError",
     "evalue": "Model registration failed. Error: 400. {\"errors\":[{\"code\":\"Bad Request\",\"message\":\"Model: b7196642-e0c7-4c2b-a378-60c598e0fa5d is already being tracked with AI Use Case: 0f5f6ea7-0356-49d4-ae32-bc0f6962b7fa with catalog id: 9974a224-8dfd-4db8-b57b-537701403b30, hence cannot track this model.\"}],\"trace\":\"a3j8snwnfr1jgag0ymthl00b8\"}",
     "output_type": "error",
     "traceback": [
      "\u001b[0;31m---------------------------------------------------------------------------\u001b[0m",
      "\u001b[0;31mClientError\u001b[0m                               Traceback (most recent call last)",
      "Cell \u001b[0;32mIn[8], line 11\u001b[0m\n\u001b[1;32m      2\u001b[0m wml_model \u001b[38;5;241m=\u001b[39m facts_client\u001b[38;5;241m.\u001b[39massets\u001b[38;5;241m.\u001b[39mget_model(\n\u001b[1;32m      3\u001b[0m     model_id\u001b[38;5;241m=\u001b[39mmodel_uid\n\u001b[1;32m      4\u001b[0m )  \u001b[38;5;66;03m# wml_stored_model_details=?\u001b[39;00m\n\u001b[1;32m      6\u001b[0m muc_utilities \u001b[38;5;241m=\u001b[39m facts_client\u001b[38;5;241m.\u001b[39massets\u001b[38;5;241m.\u001b[39mget_model_usecase(\n\u001b[1;32m      7\u001b[0m     model_usecase_id\u001b[38;5;241m=\u001b[39mmodel_use_case\u001b[38;5;241m.\u001b[39mmodel_entry_id,\n\u001b[1;32m      8\u001b[0m     catalog_id\u001b[38;5;241m=\u001b[39mmodel_use_case\u001b[38;5;241m.\u001b[39mcatalog_id,\n\u001b[1;32m      9\u001b[0m )\n\u001b[0;32m---> 11\u001b[0m \u001b[43mwml_model\u001b[49m\u001b[38;5;241;43m.\u001b[39;49m\u001b[43mtrack\u001b[49m\u001b[43m(\u001b[49m\n\u001b[1;32m     12\u001b[0m \u001b[43m    \u001b[49m\u001b[43mmodel_usecase\u001b[49m\u001b[38;5;241;43m=\u001b[39;49m\u001b[43mmuc_utilities\u001b[49m\u001b[43m,\u001b[49m\n\u001b[1;32m     13\u001b[0m \u001b[43m    \u001b[49m\u001b[43mapproach\u001b[49m\u001b[38;5;241;43m=\u001b[39;49m\u001b[43mmuc_utilities\u001b[49m\u001b[38;5;241;43m.\u001b[39;49m\u001b[43mget_approaches\u001b[49m\u001b[43m(\u001b[49m\u001b[43m)\u001b[49m\u001b[43m[\u001b[49m\u001b[38;5;241;43m0\u001b[39;49m\u001b[43m]\u001b[49m\u001b[43m,\u001b[49m\n\u001b[1;32m     14\u001b[0m \u001b[43m    \u001b[49m\u001b[43mversion_number\u001b[49m\u001b[38;5;241;43m=\u001b[39;49m\u001b[38;5;124;43m\"\u001b[39;49m\u001b[38;5;124;43mminor\u001b[39;49m\u001b[38;5;124;43m\"\u001b[39;49m\u001b[43m,\u001b[49m\u001b[43m  \u001b[49m\u001b[38;5;66;43;03m# \"0.1.0\"\u001b[39;49;00m\n\u001b[1;32m     15\u001b[0m \u001b[43m)\u001b[49m\n",
      "File \u001b[0;32m/opt/homebrew/Caskroom/miniconda/base/envs/mlmonitor/lib/python3.10/site-packages/ibm_aigov_facts_client/factsheet/asset_utils_model.py:2503\u001b[0m, in \u001b[0;36mModelAssetUtilities.track\u001b[0;34m(self, model_usecase, approach, grc_model, version_number, version_comment)\u001b[0m\n\u001b[1;32m   2501\u001b[0m     reason \u001b[38;5;241m=\u001b[39m response\u001b[38;5;241m.\u001b[39mtext\n\u001b[1;32m   2502\u001b[0m     _logger\u001b[38;5;241m.\u001b[39minfo(error_msg)\n\u001b[0;32m-> 2503\u001b[0m     \u001b[38;5;28;01mraise\u001b[39;00m ClientError(error_msg \u001b[38;5;241m+\u001b[39m \u001b[38;5;124m'\u001b[39m\u001b[38;5;124m. Error: \u001b[39m\u001b[38;5;124m'\u001b[39m \u001b[38;5;241m+\u001b[39m \u001b[38;5;28mstr\u001b[39m(response\u001b[38;5;241m.\u001b[39mstatus_code) \u001b[38;5;241m+\u001b[39m \u001b[38;5;124m'\u001b[39m\u001b[38;5;124m. \u001b[39m\u001b[38;5;124m'\u001b[39m \u001b[38;5;241m+\u001b[39m reason)\n\u001b[1;32m   2505\u001b[0m \u001b[38;5;28;01mreturn\u001b[39;00m response\u001b[38;5;241m.\u001b[39mjson()\n",
      "\u001b[0;31mClientError\u001b[0m: Model registration failed. Error: 400. {\"errors\":[{\"code\":\"Bad Request\",\"message\":\"Model: b7196642-e0c7-4c2b-a378-60c598e0fa5d is already being tracked with AI Use Case: 0f5f6ea7-0356-49d4-ae32-bc0f6962b7fa with catalog id: 9974a224-8dfd-4db8-b57b-537701403b30, hence cannot track this model.\"}],\"trace\":\"a3j8snwnfr1jgag0ymthl00b8\"}"
     ]
    }
   ],
   "source": [
    "# Get WML model and track it\n",
    "wml_model = facts_client.assets.get_model(\n",
    "    model_id=model_uid\n",
    ")  # wml_stored_model_details=?\n",
    "\n",
    "muc_utilities = facts_client.assets.get_model_usecase(\n",
    "    model_usecase_id=model_use_case.model_entry_id,\n",
    "    catalog_id=model_use_case.catalog_id,\n",
    ")\n",
    "\n",
    "wml_model.track(\n",
    "    usecase=muc_utilities,\n",
    "    approach=muc_utilities.get_approaches()[0],\n",
    "    version_number=\"minor\",  # \"0.1.0\"\n",
    ")"
   ]
  },
  {
   "cell_type": "code",
   "execution_count": null,
   "id": "f0cb473b",
   "metadata": {},
   "outputs": [],
   "source": []
  },
  {
   "cell_type": "code",
   "execution_count": null,
   "id": "6dbd815c",
   "metadata": {},
   "outputs": [],
   "source": []
  },
  {
   "cell_type": "code",
   "execution_count": null,
   "id": "8062d0b2",
   "metadata": {},
   "outputs": [],
   "source": []
  },
  {
   "cell_type": "code",
   "execution_count": 3,
   "id": "c687ed0a",
   "metadata": {
    "id": "c671f6cd26324b2eb5dc51ecf9b9e4e3"
   },
   "outputs": [
    {
     "name": "stdout",
     "output_type": "stream",
     "text": [
      "2024/03/18 15:50:41 INFO : Experiment local-test-wml-3 does not exist, creating new experiment\n",
      "2024/03/18 15:50:41 INFO : Experiment successfully created with ID 336551981225336957 and name local-test-wml-3\n",
      "2024/03/18 15:50:41 INFO : Autolog enabled Successfully\n",
      "fetch_dataset ['german_credit_data_biased_training.csv', '.gitkeep', 'gcr_feedback_logging_with_pred_aws2.csv', 'gcr_feedback_logging_aws.csv', 'gcr_feedback_logging_with_pred_aws.csv', 'gcr_explicit_payload_logging.csv', 'test_feedback_data_gcr.csv']\n",
      "2024/03/18 15:50:44 INFO : logging results to factsheet for run_id 9c56dbee66444833871aea62395b0b89\n",
      "2024/03/18 15:50:45 INFO : Successfully logged results to Factsheet service for run_id 9c56dbee66444833871aea62395b0b89 under asset_id: 3ee8ad70-b06c-4f32-ac21-455fc80328d3 and space_id : 72e47ac8-fb23-4ac0-96b8-f593b2fce652\n",
      "2024/03/18 15:50:47 INFO : logging results to factsheet for run_id 4c3aceca323041c7a055012999022f32\n",
      "2024/03/18 15:50:48 INFO : Successfully logged results to Factsheet service for run_id 4c3aceca323041c7a055012999022f32 under asset_id: 3ee8ad70-b06c-4f32-ac21-455fc80328d3 and space_id : 72e47ac8-fb23-4ac0-96b8-f593b2fce652\n",
      "2024/03/18 15:50:50 INFO : logging results to factsheet for run_id 64d076fa642c45fc832007a99face6f3\n",
      "2024/03/18 15:50:51 INFO : Successfully logged results to Factsheet service for run_id 64d076fa642c45fc832007a99face6f3 under asset_id: 3ee8ad70-b06c-4f32-ac21-455fc80328d3 and space_id : 72e47ac8-fb23-4ac0-96b8-f593b2fce652\n",
      "2024/03/18 15:50:53 INFO : logging results to factsheet for run_id a737581c84e54f1bb3b3abfb219ff507\n",
      "2024/03/18 15:50:55 INFO : Successfully logged results to Factsheet service for run_id a737581c84e54f1bb3b3abfb219ff507 under asset_id: 3ee8ad70-b06c-4f32-ac21-455fc80328d3 and space_id : 72e47ac8-fb23-4ac0-96b8-f593b2fce652\n",
      "Uploading item to bucket: ice-demo-prem, key: german_credit_data_biased_training.csv\n",
      "Creating connections...\n",
      "SUCCESS\n",
      "2024/03/18 15:51:04 INFO : Initiating logging to factsheet for run_id......a737581c84e54f1bb3b3abfb219ff507\n",
      "2024/03/18 15:51:06 INFO : Successfully logged results to Factsheet service for run_id a737581c84e54f1bb3b3abfb219ff507 under asset_id: 3ee8ad70-b06c-4f32-ac21-455fc80328d3 and space_id : 72e47ac8-fb23-4ac0-96b8-f593b2fce652\n",
      "2024/03/18 15:51:08 INFO : Current model information: {'asset_id': '6c5ab363-7163-4a5f-a5e2-f5649cb62632', 'container_type': 'space', 'container_id': '72e47ac8-fb23-4ac0-96b8-f593b2fce652', 'facts_type': 'modelfacts_user'}\n",
      "2024/03/18 15:51:09 INFO : Current model usecase information: {'model_usecase_id': '911b990b-16f7-45da-9cd9-143062e66f79', 'container_type': 'catalog', 'catalog_id': '9974a224-8dfd-4db8-b57b-537701403b30', 'facts_type': 'model_entry_user'}\n",
      "2024/03/18 15:51:09 INFO : Approaches retrieved successfully\n",
      "2024/03/18 15:51:10 INFO : Initiate linking model to existing model use case 911b990b-16f7-45da-9cd9-143062e66f79\n",
      "2024/03/18 15:51:42 INFO : Model registration failed\n"
     ]
    },
    {
     "ename": "ClientError",
     "evalue": "Model registration failed. Error: 400. {\"errors\":[{\"code\":\"Bad Request\",\"message\":\"Model: 6c5ab363-7163-4a5f-a5e2-f5649cb62632 is already being tracked with AI Use Case: 911b990b-16f7-45da-9cd9-143062e66f79 with catalog id: 9974a224-8dfd-4db8-b57b-537701403b30, hence cannot track this model.\"}],\"trace\":\"asp0mv2d16a357hec8ybef58t\"}",
     "output_type": "error",
     "traceback": [
      "\u001b[0;31m---------------------------------------------------------------------------\u001b[0m",
      "\u001b[0;31mClientError\u001b[0m                               Traceback (most recent call last)",
      "Cell \u001b[0;32mIn[3], line 1\u001b[0m\n\u001b[0;32m----> 1\u001b[0m \u001b[43mmodel_use_case\u001b[49m\u001b[38;5;241;43m.\u001b[39;49m\u001b[43mtrain\u001b[49m\u001b[43m(\u001b[49m\u001b[43m)\u001b[49m\n",
      "File \u001b[0;32m~/Documents/GitHub/mlmonitor/mlmonitor/src/model/use_case_wml.py:284\u001b[0m, in \u001b[0;36mWMLModelUseCase.train\u001b[0;34m(self)\u001b[0m\n\u001b[1;32m    278\u001b[0m \u001b[38;5;28;01mdef\u001b[39;00m \u001b[38;5;21mtrain\u001b[39m(\u001b[38;5;28mself\u001b[39m):\n\u001b[1;32m    279\u001b[0m \u001b[38;5;250m    \u001b[39m\u001b[38;5;124;03m\"\"\"\u001b[39;00m\n\u001b[1;32m    280\u001b[0m \u001b[38;5;124;03m    train WML model based on model use case definition for inference (runtime,script...) in wml_runtime section of model signature\u001b[39;00m\n\u001b[1;32m    281\u001b[0m \u001b[38;5;124;03m    :param self: Access fields or methods of the class in python\u001b[39;00m\n\u001b[1;32m    282\u001b[0m \u001b[38;5;124;03m    :return: A dictionary with the model data, job name and state of training\u001b[39;00m\n\u001b[1;32m    283\u001b[0m \u001b[38;5;124;03m    \"\"\"\u001b[39;00m\n\u001b[0;32m--> 284\u001b[0m     \u001b[38;5;28;43mself\u001b[39;49m\u001b[38;5;241;43m.\u001b[39;49m\u001b[43m_train_local\u001b[49m\u001b[43m(\u001b[49m\u001b[43m)\u001b[49m\n",
      "File \u001b[0;32m~/Documents/GitHub/mlmonitor/mlmonitor/src/model/use_case_wml.py:371\u001b[0m, in \u001b[0;36mWMLModelUseCase._train_local\u001b[0;34m(self)\u001b[0m\n\u001b[1;32m    361\u001b[0m muc_utilities \u001b[38;5;241m=\u001b[39m facts_client\u001b[38;5;241m.\u001b[39massets\u001b[38;5;241m.\u001b[39mget_model_usecase(\n\u001b[1;32m    362\u001b[0m     model_usecase_id\u001b[38;5;241m=\u001b[39m\u001b[38;5;28mself\u001b[39m\u001b[38;5;241m.\u001b[39mmodel_entry_id,\n\u001b[1;32m    363\u001b[0m     catalog_id\u001b[38;5;241m=\u001b[39m\u001b[38;5;28mself\u001b[39m\u001b[38;5;241m.\u001b[39mcatalog_id,\n\u001b[1;32m    364\u001b[0m )\n\u001b[1;32m    366\u001b[0m \u001b[38;5;66;03m# wml_model.track(\u001b[39;00m\n\u001b[1;32m    367\u001b[0m \u001b[38;5;66;03m#     model_usecase=muc_utilities,\u001b[39;00m\n\u001b[1;32m    368\u001b[0m \u001b[38;5;66;03m#     approach=muc_utilities.get_approaches()[0],\u001b[39;00m\n\u001b[1;32m    369\u001b[0m \u001b[38;5;66;03m#     version_number=\"minor\",  # \"0.1.0\"\u001b[39;00m\n\u001b[1;32m    370\u001b[0m \u001b[38;5;66;03m# )\u001b[39;00m\n\u001b[0;32m--> 371\u001b[0m \u001b[43mwml_model\u001b[49m\u001b[38;5;241;43m.\u001b[39;49m\u001b[43mtrack\u001b[49m\u001b[43m(\u001b[49m\n\u001b[1;32m    372\u001b[0m \u001b[43m    \u001b[49m\u001b[43musecase\u001b[49m\u001b[38;5;241;43m=\u001b[39;49m\u001b[43mmuc_utilities\u001b[49m\u001b[43m,\u001b[49m\n\u001b[1;32m    373\u001b[0m \u001b[43m    \u001b[49m\u001b[43mapproach\u001b[49m\u001b[38;5;241;43m=\u001b[39;49m\u001b[43mmuc_utilities\u001b[49m\u001b[38;5;241;43m.\u001b[39;49m\u001b[43mget_approaches\u001b[49m\u001b[43m(\u001b[49m\u001b[43m)\u001b[49m\u001b[43m[\u001b[49m\u001b[38;5;241;43m0\u001b[39;49m\u001b[43m]\u001b[49m\u001b[43m,\u001b[49m\n\u001b[1;32m    374\u001b[0m \u001b[43m    \u001b[49m\u001b[43mversion_number\u001b[49m\u001b[38;5;241;43m=\u001b[39;49m\u001b[38;5;124;43m\"\u001b[39;49m\u001b[38;5;124;43mminor\u001b[39;49m\u001b[38;5;124;43m\"\u001b[39;49m\u001b[43m,\u001b[49m\u001b[43m  \u001b[49m\u001b[38;5;66;43;03m# \"0.1.0\"\u001b[39;49;00m\n\u001b[1;32m    375\u001b[0m \u001b[43m\u001b[49m\u001b[43m)\u001b[49m\n",
      "File \u001b[0;32m/opt/homebrew/Caskroom/miniconda/base/envs/mlmonitor/lib/python3.10/site-packages/ibm_aigov_facts_client/factsheet/asset_utils_model.py:2773\u001b[0m, in \u001b[0;36mModelAssetUtilities.track\u001b[0;34m(self, usecase, approach, grc_model, version_number, version_comment)\u001b[0m\n\u001b[1;32m   2771\u001b[0m     reason \u001b[38;5;241m=\u001b[39m response\u001b[38;5;241m.\u001b[39mtext\n\u001b[1;32m   2772\u001b[0m     _logger\u001b[38;5;241m.\u001b[39minfo(error_msg)\n\u001b[0;32m-> 2773\u001b[0m     \u001b[38;5;28;01mraise\u001b[39;00m ClientError(error_msg \u001b[38;5;241m+\u001b[39m \u001b[38;5;124m'\u001b[39m\u001b[38;5;124m. Error: \u001b[39m\u001b[38;5;124m'\u001b[39m \u001b[38;5;241m+\u001b[39m\n\u001b[1;32m   2774\u001b[0m                       \u001b[38;5;28mstr\u001b[39m(response\u001b[38;5;241m.\u001b[39mstatus_code) \u001b[38;5;241m+\u001b[39m \u001b[38;5;124m'\u001b[39m\u001b[38;5;124m. \u001b[39m\u001b[38;5;124m'\u001b[39m \u001b[38;5;241m+\u001b[39m reason)\n\u001b[1;32m   2776\u001b[0m \u001b[38;5;28;01mreturn\u001b[39;00m response\u001b[38;5;241m.\u001b[39mjson()\n",
      "\u001b[0;31mClientError\u001b[0m: Model registration failed. Error: 400. {\"errors\":[{\"code\":\"Bad Request\",\"message\":\"Model: 6c5ab363-7163-4a5f-a5e2-f5649cb62632 is already being tracked with AI Use Case: 911b990b-16f7-45da-9cd9-143062e66f79 with catalog id: 9974a224-8dfd-4db8-b57b-537701403b30, hence cannot track this model.\"}],\"trace\":\"asp0mv2d16a357hec8ybef58t\"}"
     ]
    }
   ],
   "source": [
    "model_use_case.train()"
   ]
  },
  {
   "attachments": {},
   "cell_type": "markdown",
   "id": "d3eb194b",
   "metadata": {
    "id": "2882c73f-8433-466b-b0a1-c79aee8d437f",
    "papermill": {
     "duration": null,
     "end_time": null,
     "exception": null,
     "start_time": null,
     "status": "pending"
    },
    "tags": []
   },
   "source": [
    "### Deploy WML online endpoint <a name=\"deploy_wml_endpoint\"></a>"
   ]
  },
  {
   "cell_type": "code",
   "execution_count": null,
   "id": "dbb360d5-e421-452e-a72f-a700b71ee5ee",
   "metadata": {
    "id": "7727a1a8-f91e-4b2f-8909-0d502fff8772"
   },
   "outputs": [],
   "source": [
    "model_use_case.deploy()"
   ]
  },
  {
   "attachments": {},
   "cell_type": "markdown",
   "id": "0a63d8a7",
   "metadata": {
    "id": "4613f3fb-0aa1-4761-8312-b54f51f3f1fe",
    "papermill": {
     "duration": null,
     "end_time": null,
     "exception": null,
     "start_time": null,
     "status": "pending"
    },
    "tags": []
   },
   "source": [
    "### Score WML model <a name=\"score_endpoint\"></a>"
   ]
  },
  {
   "cell_type": "code",
   "execution_count": null,
   "id": "df371cc4-c997-4ca1-8341-3f19942f4b98",
   "metadata": {
    "id": "6e823db6-07e1-4a9d-b51f-42d665ccf477"
   },
   "outputs": [],
   "source": [
    "model_use_case.score_model()"
   ]
  },
  {
   "attachments": {},
   "cell_type": "markdown",
   "id": "de861940-fd3d-4b2b-b3f6-b7a05ecaae07",
   "metadata": {
    "id": "7cc9318a-1332-4ebe-b262-92a0a160de80"
   },
   "source": [
    "### Configure WML Monitoring <a name=\"monitor_endpoint\"></a>"
   ]
  },
  {
   "cell_type": "code",
   "execution_count": null,
   "id": "a6bbc98b-4305-49ea-a04e-a1f7fd30b8df",
   "metadata": {
    "id": "e93c4cf4-d4b2-47db-819b-daf1a393d350"
   },
   "outputs": [],
   "source": [
    "model_use_case.monitor()"
   ]
  },
  {
   "attachments": {},
   "cell_type": "markdown",
   "id": "23111939-96ca-4315-800c-464c7b120147",
   "metadata": {
    "id": "d4e57fc9-fd47-45ca-940e-7afc6d0ac03f"
   },
   "source": [
    "### Configure Quality Monitor <a name=\"quality_monitor\"></a>"
   ]
  },
  {
   "cell_type": "code",
   "execution_count": null,
   "id": "f9461ef9-1616-48b5-986d-85bffea7b2a6",
   "metadata": {
    "id": "7464086c-b047-40c2-bb26-f342f2b6ca29"
   },
   "outputs": [],
   "source": [
    "model_use_case.configure_quality_monitor()"
   ]
  },
  {
   "attachments": {},
   "cell_type": "markdown",
   "id": "f941ad2b-4f55-4bca-92ef-b90f1a315cc0",
   "metadata": {
    "id": "07067b4c-de6d-40da-9f35-15af887e68eb"
   },
   "source": [
    "### Configure Explainability Monitor <a name=\"explain_monitor\"></a>"
   ]
  },
  {
   "cell_type": "code",
   "execution_count": null,
   "id": "7995c4c8-bfbd-4228-b376-56af390cf0e3",
   "metadata": {
    "id": "5269bd49-d95d-4c8a-a7ae-34d684c6dbd1"
   },
   "outputs": [],
   "source": [
    "model_use_case.configure_explainability_monitor()"
   ]
  },
  {
   "attachments": {},
   "cell_type": "markdown",
   "id": "290978e1-a311-4ea0-b7fe-3e6820e985bd",
   "metadata": {
    "id": "6ac38ab1-59c0-4cde-8707-637164294967"
   },
   "source": [
    "### Configure Fairness Monitor <a name=\"fairness_monitor\"></a>"
   ]
  },
  {
   "cell_type": "code",
   "execution_count": null,
   "id": "c1ffff78-99dc-4d4d-9711-6c6cb00f4aa5",
   "metadata": {
    "id": "8f765803-bd7b-4229-a3d9-b2a01f2c8b93"
   },
   "outputs": [],
   "source": [
    "model_use_case.configure_fairness_monitor()"
   ]
  },
  {
   "attachments": {},
   "cell_type": "markdown",
   "id": "92401344",
   "metadata": {
    "id": "5ec8f584-dd1a-4092-8e14-facd02ac6068"
   },
   "source": [
    "### Configure Drift Monitor <a name=\"drift_monitor\"></a>"
   ]
  },
  {
   "cell_type": "code",
   "execution_count": null,
   "id": "5c0a7cdd",
   "metadata": {
    "id": "53fb25c6-246b-4f01-9f06-7f3c084bb072"
   },
   "outputs": [],
   "source": [
    "model_use_case.configure_drift_monitor()"
   ]
  },
  {
   "attachments": {},
   "cell_type": "markdown",
   "id": "eb875af6",
   "metadata": {
    "id": "d037d010-de6c-4499-b53a-52fe355710c4"
   },
   "source": [
    "### Log feedback data <a name=\"feedback_logging\"></a>"
   ]
  },
  {
   "cell_type": "code",
   "execution_count": null,
   "id": "aad54854",
   "metadata": {
    "id": "7584d0b5-1d60-4111-ad99-f2da1c7c19f0"
   },
   "outputs": [],
   "source": [
    "model_use_case.log_feedback()"
   ]
  },
  {
   "attachments": {},
   "cell_type": "markdown",
   "id": "e865291d",
   "metadata": {
    "id": "6a143ec4-7f25-4cdd-8015-298d5bdfea9a"
   },
   "source": [
    "### Log Payload data <a name=\"payload_logging\"></a>"
   ]
  },
  {
   "cell_type": "code",
   "execution_count": null,
   "id": "cbc92394",
   "metadata": {
    "id": "c02c75ed-0beb-47df-84c7-0f31355f1293"
   },
   "outputs": [],
   "source": [
    "model_use_case.log_payload()"
   ]
  },
  {
   "attachments": {},
   "cell_type": "markdown",
   "id": "ded11c6a-c3da-40eb-9931-e79d1ea516a7",
   "metadata": {
    "id": "73f3eb38-16a1-4694-840a-4c7174afc24e"
   },
   "source": [
    "### Evaluate monitors <a name=\"evaluate_monitors\"></a>"
   ]
  },
  {
   "cell_type": "code",
   "execution_count": null,
   "id": "9bb4107e-2670-4c42-b7fd-635b1a377030",
   "metadata": {
    "id": "8f4344fe-61a3-4ed4-937b-3f2d25bc20e3"
   },
   "outputs": [],
   "source": [
    "model_use_case.evaluate_model()"
   ]
  },
  {
   "attachments": {},
   "cell_type": "markdown",
   "id": "02801695",
   "metadata": {
    "id": "7f5bf2ba44ff49f99092513d4f5c8c39"
   },
   "source": [
    "### Run a data drift scenario <a name=\"data_drift_scenario\"></a>"
   ]
  },
  {
   "cell_type": "code",
   "execution_count": null,
   "id": "82a56cb5",
   "metadata": {
    "id": "81011dbfa74f406e8474cadcea84cc51"
   },
   "outputs": [],
   "source": [
    "model_perturbation = ModelPerturbator(\n",
    "        source_dir=source_dir,\n",
    "        monitor_type='drift',\n",
    "        scenario_id='single_column_1',\n",
    "    )\n",
    "\n",
    "model_perturbation.ratios = [0.1, 0.2, 0.3, 0.2, 0.1]\n",
    "\n",
    "model_use_case.data_drift_scenario(model_perturbation)"
   ]
  },
  {
   "attachments": {},
   "cell_type": "markdown",
   "id": "3fa98afe",
   "metadata": {
    "id": "1fec5b7bb335441c8e117896084c0c48"
   },
   "source": [
    "### Delete Resources related to Model <a name=\"delete_resources\"></a>"
   ]
  },
  {
   "cell_type": "code",
   "execution_count": null,
   "id": "428ae6f3",
   "metadata": {
    "id": "f5ce3b67fc4e432992d06af23cdb1baf"
   },
   "outputs": [],
   "source": [
    "#model_use_case.cleanup()"
   ]
  }
 ],
 "metadata": {
  "celltoolbar": "Tags",
  "instance_type": "ml.t3.medium",
  "kernelspec": {
   "display_name": "Python 3 (ipykernel)",
   "language": "python",
   "name": "python3"
  },
  "language_info": {
   "codemirror_mode": {
    "name": "ipython",
    "version": 3
   },
   "file_extension": ".py",
   "mimetype": "text/x-python",
   "name": "python",
   "nbconvert_exporter": "python",
   "pygments_lexer": "ipython3",
   "version": "3.10.13"
  },
  "notice": "Copyright 2017 Amazon.com, Inc. or its affiliates. All Rights Reserved.  Licensed under the Apache License, Version 2.0 (the \"License\"). You may not use this file except in compliance with the License. A copy of the License is located at http://aws.amazon.com/apache2.0/ or in the \"license\" file accompanying this file. This file is distributed on an \"AS IS\" BASIS, WITHOUT WARRANTIES OR CONDITIONS OF ANY KIND, either express or implied. See the License for the specific language governing permissions and limitations under the License.",
  "papermill": {
   "default_parameters": {},
   "duration": 311.728138,
   "end_time": "2021-06-07T00:14:55.273560",
   "environment_variables": {},
   "exception": true,
   "input_path": "xgboost_customer_churn.ipynb",
   "output_path": "/opt/ml/processing/output/xgboost_customer_churn-2021-06-07-00-06-03.ipynb",
   "parameters": {
    "kms_key": "arn:aws:kms:us-west-2:521695447989:key/6e9984db-50cf-4c7e-926c-877ec47a8b25"
   },
   "start_time": "2021-06-07T00:09:43.545422",
   "version": "2.3.3"
  }
 },
 "nbformat": 4,
 "nbformat_minor": 5
}
