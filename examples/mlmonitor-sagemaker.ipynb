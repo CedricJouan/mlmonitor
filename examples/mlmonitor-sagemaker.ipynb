{
 "cells": [
  {
   "cell_type": "markdown",
   "id": "e6d1d87f",
   "metadata": {
    "id": "ca57299e-851e-4d15-aad6-7f8db9c6de76",
    "papermill": {
     "duration": 0.018505,
     "end_time": "2021-06-07T00:09:44.379517",
     "exception": false,
     "start_time": "2021-06-07T00:09:44.361012",
     "status": "completed"
    },
    "tags": []
   },
   "source": [
    "# ML Model Onboarding  Accelerator- SageMaker\n",
    "_**Automate Sagemaker Model Onboarding process - Governance in AI Factsheets - Monitoring in Watson OpenScale**_\n",
    "\n",
    "### how to use <i>mlmonitor</i> client\n",
    "- [Initialize Pipelines Client and variables](#pipelines_client)\n",
    "- [Train model in Sagemaker](#train_sm_job)\n",
    "- [Deploy Online model in Sagemaker](#deploy_sm_endpoint)\n",
    "- [Govern model in FactSheets](#deploy_sm_endpoint)\n",
    "- [Score Sagemaker model](#score_endpoint)\n",
    "- [Configure Monitoring](#monitor_endpoint)\n",
    "- [Configure Quality](#quality_monitor)\n",
    "- [Configure Explainability](#explain_monitor)\n",
    "- [Configure Fairness Monitoring](#fairness_monitor)\n",
    "- [Configure Drift Monitoring](#drift_monitor)\n",
    "- [Log feedback data](#feedback_logging)\n",
    "- [Log payload data](#payload_logging)\n",
    "- [Evaluate monitors](#evaluate_monitors)\n",
    "- [Drift Scenario](#data_drift_scenario)\n",
    "- [Delete Deployment](#delete_resources)\n",
    "---"
   ]
  },
  {
   "cell_type": "markdown",
   "id": "14716a6a-d167-4a72-ad17-edb98f436f0f",
   "metadata": {
    "id": "0042efa3-121b-4926-9742-afeee0ce3af1"
   },
   "source": [
    "#### setup credentials for mlmonitor library"
   ]
  },
  {
   "cell_type": "code",
   "execution_count": 1,
   "id": "67adcd75-bdcd-4678-9cc9-c90d8fb0c5c0",
   "metadata": {
    "id": "cfea9a79-19fb-4990-bb0c-64235f9b6b93"
   },
   "outputs": [],
   "source": [
    "import os\n",
    "import sys\n",
    "import json\n",
    "\n",
    "os.environ['ENV'] = 'prem'\n",
    "os.environ['LOG_LEVEL'] = '10'\n",
    "os.environ['VERIFY_CP4D_SSL'] = \"False\"\n",
    "config_filename = 'credentials_uploaded2cp4d_prem.cfg'\n",
    "\n",
    "\n",
    "lib_path = os.path.abspath('../')\n",
    "sys.path.append(lib_path)\n",
    "os.environ['MONITOR_CONFIG_FILE'] = os.path.join(lib_path,config_filename)"
   ]
  },
  {
   "cell_type": "markdown",
   "id": "6936f75c-f4e6-451f-adfc-cc7da3b01f03",
   "metadata": {
    "id": "adcd1ed8-e3bf-4ffb-b131-7198221911c0"
   },
   "source": [
    "### test specific tasks from SageMakerModelUseCase"
   ]
  },
  {
   "cell_type": "code",
   "execution_count": 2,
   "id": "cab4cb38-2171-4c2a-899a-ab5d5ca2af7f",
   "metadata": {
    "id": "57b8b550-d6cf-42f1-b0bc-e9feb409ce29"
   },
   "outputs": [
    {
     "name": "stderr",
     "output_type": "stream",
     "text": [
      "2024-03-19 17:52:05,926 - mlmonitor.src - <module> -DEBUG - ENV set to prem\n",
      "2024-03-19 17:52:06,761 - mlmonitor.src - <module> -DEBUG - Instantiate WML Client\n",
      "2024-03-19 17:52:07,704 - ibm_watson_machine_learning.client - __init__ -INFO - Client successfully initialized\n",
      "2024-03-19 17:52:08,118 - mlmonitor.src - <module> -DEBUG - Instantiate WOS Client\n",
      "2024-03-19 17:52:12,357 - botocore.credentials - load -INFO - Found credentials in environment variables.\n"
     ]
    },
    {
     "name": "stdout",
     "output_type": "stream",
     "text": [
      "run pip install mlmonitor[azure] to use AzureModelUseCase\n",
      "sagemaker.config INFO - Not applying SDK defaults from location: /opt/homebrew/share/sagemaker/config.yaml\n",
      "sagemaker.config INFO - Not applying SDK defaults from location: /Users/cjouan/Library/Application Support/sagemaker/config.yaml\n"
     ]
    },
    {
     "name": "stderr",
     "output_type": "stream",
     "text": [
      "2024-03-19 17:52:12,644 - mlmonitor.src - load_aws_use_case -INFO - SageMakerModelUseCase class initialized from scratch\n",
      "2024-03-19 17:52:12,646 - mlmonitor.src - load_config -INFO - ModelConfig class loaded from file /Users/cjouan/Documents/GitHub/mlmonitor/mlmonitor/use_case_gcr/model_signature.json\n",
      "2024-03-19 17:52:12,646 - mlmonitor.src - load_aws_config -INFO - SageMakerModelConfig class loaded from file /Users/cjouan/Documents/GitHub/mlmonitor/mlmonitor/use_case_gcr/model_signature.json\n"
     ]
    },
    {
     "name": "stdout",
     "output_type": "stream",
     "text": [
      "sagemaker installed at ['/opt/homebrew/Caskroom/miniconda/base/envs/mlmonitor/lib/python3.10/site-packages/sagemaker']\n",
      "run pip install mlmonitor[azure] to use AzureModelUseCase\n"
     ]
    },
    {
     "name": "stderr",
     "output_type": "stream",
     "text": [
      "2024-03-19 17:52:13,123 - mlmonitor.src - ibm_key_name -INFO - secret name IBM_KEYS_PREM already exists with key name IBM_API_KEY_MLOPS\n",
      "2024-03-19 17:52:13,124 - mlmonitor.src - ibm_key_name -INFO - set ibm_key_name to IBM_API_KEY_MLOPS\n"
     ]
    },
    {
     "name": "stdout",
     "output_type": "stream",
     "text": [
      "True\n",
      "True\n"
     ]
    },
    {
     "name": "stderr",
     "output_type": "stream",
     "text": [
      "2024-03-19 17:52:13,589 - mlmonitor.src - ibm_key_name -INFO - secret name IBM_KEYS_PREM already exists with key name IBM_API_KEY_TESTS_SAAS\n",
      "2024-03-19 17:52:13,591 - mlmonitor.src - ibm_key_name -INFO - set ibm_key_name to IBM_API_KEY_TESTS_SAAS\n"
     ]
    },
    {
     "name": "stdout",
     "output_type": "stream",
     "text": [
      "\n",
      "              - trained:   [False]\n",
      "              - deployed:  [False]\n",
      "              - governed:  [False]\n",
      "              - monitored: [False]\n",
      "\n"
     ]
    }
   ],
   "source": [
    "from mlmonitor import SageMakerModelUseCase\n",
    "from mlmonitor.src.demos.model_perturbator import ModelPerturbator\n",
    "\n",
    "# source_dir = 'use_case_gcr'\n",
    "source_dir = 'use_case_summarization_tf'\n",
    "model_endpoint = None\n",
    "\n",
    "# Model use case definition\n",
    "catalog_id = \"9974a224-8dfd-4db8-b57b-537701403b30\"\n",
    "model_entry_id = \"b9eb0ea9-ac72-438d-ada8-8ac1f0e80851\"\n",
    "\n",
    "\n",
    "\n",
    "model_use_case = SageMakerModelUseCase(source_dir=source_dir,catalog_id=catalog_id,model_entry_id=model_entry_id)\n",
    "print(model_use_case._wos_configured)\n",
    "print(model_use_case._wml_configured)\n",
    "\n",
    "if model_endpoint:\n",
    "    model_use_case.derive_model_states(endpoint_name=model_endpoint)\n",
    "\n",
    "model_use_case.ibm_key_name = 'IBM_API_KEY_TESTS_SAAS'\n",
    "model_use_case.display_states()"
   ]
  },
  {
   "cell_type": "markdown",
   "id": "b0e300aa-fed8-4708-984d-63dd350a70ca",
   "metadata": {
    "id": "9c597708-84ec-4f92-ae1b-c73976c48814"
   },
   "source": [
    "### Train model in Sagemaker Job <a name=\"train_sm_job\"></a>"
   ]
  },
  {
   "cell_type": "code",
   "execution_count": 3,
   "id": "c687ed0a",
   "metadata": {
    "id": "c671f6cd26324b2eb5dc51ecf9b9e4e3"
   },
   "outputs": [
    {
     "name": "stderr",
     "output_type": "stream",
     "text": [
      "2024-03-19 17:52:19,321 - mlmonitor.src - s3_upload_training_job_datasets -INFO - uploaded train dataset from /Users/cjouan/Documents/GitHub/mlmonitor/mlmonitor/datasets/gcr/german_credit_data_biased_training.csv to s3://sagemaker-ca-central-1-883895198206/gcr/train/german_credit_data_biased_training.csv\n",
      "2024-03-19 17:52:19,323 - mlmonitor.src - s3_upload_training_job_datasets -INFO - skipping uploading validation similar to train \n",
      "2024-03-19 17:52:19,574 - mlmonitor.src - s3_upload_training_job_datasets -INFO - uploaded test dataset from /Users/cjouan/Documents/GitHub/mlmonitor/mlmonitor/datasets/gcr/test_feedback_data_gcr.csv to s3://sagemaker-ca-central-1-883895198206/gcr/test/test_feedback_data_gcr.csv\n",
      "2024-03-19 17:52:19,581 - sagemaker.image_uris - _validate_py_version_and_set_if_needed -INFO - Defaulting to only available Python version: py3\n",
      "2024-03-19 17:52:19,595 - sagemaker.image_uris - _processor -INFO - Defaulting to only supported image scope: cpu.\n",
      "2024-03-19 17:52:19,596 - mlmonitor.src - train_sagemaker_job -INFO - Train model\n",
      "with role : [SageMakerRoleCE]\n",
      "custom train : [True]\n",
      "job name : [sm-gcr-scikit]\n",
      "deploy model : [False]\n",
      "train entrypoint : [train_gcr.py]\n",
      "source_dir : [/Users/cjouan/Documents/GitHub/mlmonitor/mlmonitor/use_case_gcr]\n",
      "Model use case id [b9eb0ea9-ac72-438d-ada8-8ac1f0e80851]\n",
      "catalog id [9974a224-8dfd-4db8-b57b-537701403b30]\n",
      "ibm key name [IBM_API_KEY_TESTS_SAAS]\n",
      "AWS Region [ca-central-1]\n",
      "SM version [2.213.0]\n",
      "Estimator class [Estimator]\n",
      "Estimator parameters \n",
      "[{'base_job_name': 'sm-gcr-scikit', 'entry_point': 'train_gcr.py', 'source_dir': '/Users/cjouan/Documents/GitHub/mlmonitor/mlmonitor/use_case_gcr', 'role': 'SageMakerRoleCE', 'instance_count': 1, 'instance_type': 'ml.m4.xlarge', 'output_path': 's3://sagemaker-ca-central-1-883895198206/gcr', 'hyperparameters': {'ibm-key-name': 'IBM_API_KEY_TESTS_SAAS', 'catalog-id': '9974a224-8dfd-4db8-b57b-537701403b30', 'model-entry-id': 'b9eb0ea9-ac72-438d-ada8-8ac1f0e80851', 'cp4d-env': 'prem', 'cp4d-url': 'https://cpd-cpd-watsonx.apps.65ef0f18e0ddf2001e63add5.cloud.techzone.ibm.com', 'cp4d-username': 'cpadmin'}, 'image_uri': '341280168497.dkr.ecr.ca-central-1.amazonaws.com/sagemaker-scikit-learn:1.0-1-cpu-py3', 'sagemaker_session': <sagemaker.session.Session object at 0x304f9ef20>}]\n",
      "Script parameters \n",
      "[{'ibm-key-name': 'IBM_API_KEY_TESTS_SAAS', 'catalog-id': '9974a224-8dfd-4db8-b57b-537701403b30', 'model-entry-id': 'b9eb0ea9-ac72-438d-ada8-8ac1f0e80851', 'cp4d-env': 'prem', 'cp4d-url': 'https://cpd-cpd-watsonx.apps.65ef0f18e0ddf2001e63add5.cloud.techzone.ibm.com', 'cp4d-username': 'cpadmin'}]\n",
      "\n",
      "2024-03-19 17:52:19,604 - botocore.credentials - load -INFO - Found credentials in environment variables.\n",
      "2024-03-19 17:52:20,698 - sagemaker - submit -INFO - Creating training-job with name: sm-gcr-scikit-2024-03-20-00-52-19-654\n"
     ]
    },
    {
     "name": "stdout",
     "output_type": "stream",
     "text": [
      "2024-03-20 00:52:21 Starting - Starting the training job...\n",
      "2024-03-20 00:52:37 Starting - Preparing the instances for training......\n",
      "2024-03-20 00:53:34 Downloading - Downloading input data...\n",
      "2024-03-20 00:54:09 Downloading - Downloading the training image...\n",
      "2024-03-20 00:54:54 Training - Training image download completed. Training in progress....2024-03-20 00:55:11,292 sagemaker-containers INFO     Imported framework sagemaker_sklearn_container.training\n",
      "2024-03-20 00:55:11,296 sagemaker-training-toolkit INFO     No GPUs detected (normal if no gpus installed)\n",
      "2024-03-20 00:55:11,300 sagemaker-training-toolkit INFO     No Neurons detected (normal if no neurons installed)\n",
      "2024-03-20 00:55:11,319 sagemaker_sklearn_container.training INFO     Invoking user training script.\n",
      "2024-03-20 00:55:11,596 sagemaker-training-toolkit INFO     Installing dependencies from requirements.txt:\n",
      "/miniconda3/bin/python -m pip install -r requirements.txt\n",
      "Collecting ipython==8.12.0 (from -r requirements.txt (line 1))\n",
      "  Downloading ipython-8.12.0-py3-none-any.whl.metadata (5.8 kB)\n",
      "Collecting ibm-aigov-facts-client==1.0.60 (from -r requirements.txt (line 2))\n",
      "  Downloading ibm_aigov_facts_client-1.0.60-py3-none-any.whl.metadata (1.0 kB)\n",
      "Collecting backcall (from ipython==8.12.0->-r requirements.txt (line 1))\n",
      "  Downloading backcall-0.2.0-py2.py3-none-any.whl.metadata (2.0 kB)\n",
      "Collecting decorator (from ipython==8.12.0->-r requirements.txt (line 1))\n",
      "  Downloading decorator-5.1.1-py3-none-any.whl.metadata (4.0 kB)\n",
      "Collecting jedi>=0.16 (from ipython==8.12.0->-r requirements.txt (line 1))\n",
      "  Downloading jedi-0.19.1-py2.py3-none-any.whl.metadata (22 kB)\n",
      "Collecting matplotlib-inline (from ipython==8.12.0->-r requirements.txt (line 1))\n",
      "  Downloading matplotlib_inline-0.1.6-py3-none-any.whl.metadata (2.8 kB)\n",
      "Collecting pickleshare (from ipython==8.12.0->-r requirements.txt (line 1))\n",
      "  Downloading pickleshare-0.7.5-py2.py3-none-any.whl.metadata (1.5 kB)\n",
      "Collecting prompt-toolkit!=3.0.37,<3.1.0,>=3.0.30 (from ipython==8.12.0->-r requirements.txt (line 1))\n",
      "  Downloading prompt_toolkit-3.0.43-py3-none-any.whl.metadata (6.5 kB)\n",
      "Collecting pygments>=2.4.0 (from ipython==8.12.0->-r requirements.txt (line 1))\n",
      "  Downloading pygments-2.17.2-py3-none-any.whl.metadata (2.6 kB)\n",
      "Collecting stack-data (from ipython==8.12.0->-r requirements.txt (line 1))\n",
      "  Downloading stack_data-0.6.3-py3-none-any.whl.metadata (18 kB)\n",
      "Collecting traitlets>=5 (from ipython==8.12.0->-r requirements.txt (line 1))\n",
      "  Downloading traitlets-5.14.2-py3-none-any.whl.metadata (10 kB)\n",
      "Collecting typing-extensions (from ipython==8.12.0->-r requirements.txt (line 1))\n",
      "  Downloading typing_extensions-4.10.0-py3-none-any.whl.metadata (3.0 kB)\n",
      "Collecting pexpect>4.3 (from ipython==8.12.0->-r requirements.txt (line 1))\n",
      "  Downloading pexpect-4.9.0-py2.py3-none-any.whl.metadata (2.5 kB)\n",
      "Requirement already satisfied: pandas in /miniconda3/lib/python3.8/site-packages (from ibm-aigov-facts-client==1.0.60->-r requirements.txt (line 2)) (1.1.3)\n",
      "Requirement already satisfied: numpy in /miniconda3/lib/python3.8/site-packages (from ibm-aigov-facts-client==1.0.60->-r requirements.txt (line 2)) (1.24.1)\n",
      "Collecting mlflow-skinny==1.28.0 (from ibm-aigov-facts-client==1.0.60->-r requirements.txt (line 2))\n",
      "  Downloading mlflow_skinny-1.28.0-py3-none-any.whl.metadata (11 kB)\n",
      "Requirement already satisfied: requests<3.0,>=2.0 in /miniconda3/lib/python3.8/site-packages (from ibm-aigov-facts-client==1.0.60->-r requirements.txt (line 2)) (2.31.0)\n",
      "Collecting ibm-cloud-sdk-core>=3.5.2 (from ibm-aigov-facts-client==1.0.60->-r requirements.txt (line 2))\n",
      "  Downloading ibm-cloud-sdk-core-3.19.2.tar.gz (61 kB)\n",
      "     ━━━━━━━━━━━━━━━━━━━━━━━━━━━━━━━━━━━━━━━━ 62.0/62.0 kB 1.5 MB/s eta 0:00:00\n",
      "  Installing build dependencies: started\n",
      "  Installing build dependencies: finished with status 'done'\n",
      "  Getting requirements to build wheel: started\n",
      "  Getting requirements to build wheel: finished with status 'done'\n",
      "  Preparing metadata (pyproject.toml): started\n",
      "  Preparing metadata (pyproject.toml): finished with status 'done'\n",
      "Collecting sqlparse>=0.3.1 (from ibm-aigov-facts-client==1.0.60->-r requirements.txt (line 2))\n",
      "  Downloading sqlparse-0.4.4-py3-none-any.whl.metadata (4.0 kB)\n",
      "Collecting docutils<0.16,>=0.10 (from ibm-aigov-facts-client==1.0.60->-r requirements.txt (line 2))\n",
      "  Downloading docutils-0.15.2-py3-none-any.whl.metadata (2.6 kB)\n",
      "Collecting timeout-decorator (from ibm-aigov-facts-client==1.0.60->-r requirements.txt (line 2))\n",
      "  Downloading timeout-decorator-0.5.0.tar.gz (4.8 kB)\n",
      "  Preparing metadata (setup.py): started\n",
      "  Preparing metadata (setup.py): finished with status 'done'\n",
      "Collecting python-magic (from ibm-aigov-facts-client==1.0.60->-r requirements.txt (line 2))\n",
      "  Downloading python_magic-0.4.27-py2.py3-none-any.whl.metadata (5.8 kB)\n",
      "Requirement already satisfied: pillow in /miniconda3/lib/python3.8/site-packages (from ibm-aigov-facts-client==1.0.60->-r requirements.txt (line 2)) (10.1.0)\n",
      "Requirement already satisfied: click<9,>=7.0 in /miniconda3/lib/python3.8/site-packages (from mlflow-skinny==1.28.0->ibm-aigov-facts-client==1.0.60->-r requirements.txt (line 2)) (8.1.7)\n",
      "Collecting cloudpickle<3 (from mlflow-skinny==1.28.0->ibm-aigov-facts-client==1.0.60->-r requirements.txt (line 2))\n",
      "  Downloading cloudpickle-2.2.1-py3-none-any.whl.metadata (6.9 kB)\n",
      "Collecting databricks-cli<1,>=0.8.7 (from mlflow-skinny==1.28.0->ibm-aigov-facts-client==1.0.60->-r requirements.txt (line 2))\n",
      "  Downloading databricks_cli-0.18.0-py2.py3-none-any.whl.metadata (4.0 kB)\n",
      "Collecting entrypoints<1 (from mlflow-skinny==1.28.0->ibm-aigov-facts-client==1.0.60->-r requirements.txt (line 2))\n",
      "  Downloading entrypoints-0.4-py3-none-any.whl.metadata (2.6 kB)\n",
      "Collecting gitpython<4,>=2.1.0 (from mlflow-skinny==1.28.0->ibm-aigov-facts-client==1.0.60->-r requirements.txt (line 2))\n",
      "  Downloading GitPython-3.1.42-py3-none-any.whl.metadata (12 kB)\n",
      "Collecting pyyaml<7,>=5.1 (from mlflow-skinny==1.28.0->ibm-aigov-facts-client==1.0.60->-r requirements.txt (line 2))\n",
      "  Downloading PyYAML-6.0.1-cp38-cp38-manylinux_2_17_x86_64.manylinux2014_x86_64.whl.metadata (2.1 kB)\n",
      "Requirement already satisfied: protobuf<5,>=3.12.0 in /miniconda3/lib/python3.8/site-packages (from mlflow-skinny==1.28.0->ibm-aigov-facts-client==1.0.60->-r requirements.txt (line 2)) (3.20.2)\n",
      "Collecting pytz<2023 (from mlflow-skinny==1.28.0->ibm-aigov-facts-client==1.0.60->-r requirements.txt (line 2))\n",
      "  Downloading pytz-2022.7.1-py2.py3-none-any.whl.metadata (21 kB)\n",
      "Collecting packaging<22 (from mlflow-skinny==1.28.0->ibm-aigov-facts-client==1.0.60->-r requirements.txt (line 2))\n",
      "  Downloading packaging-21.3-py3-none-any.whl.metadata (15 kB)\n",
      "Collecting importlib-metadata!=4.7.0,<5,>=3.7.0 (from mlflow-skinny==1.28.0->ibm-aigov-facts-client==1.0.60->-r requirements.txt (line 2))\n",
      "  Downloading importlib_metadata-4.13.0-py3-none-any.whl.metadata (4.9 kB)\n",
      "Collecting urllib3<3.0.0,>=2.1.0 (from ibm-cloud-sdk-core>=3.5.2->ibm-aigov-facts-client==1.0.60->-r requirements.txt (line 2))\n",
      "  Downloading urllib3-2.2.1-py3-none-any.whl.metadata (6.4 kB)\n",
      "Collecting python-dateutil<3.0.0,>=2.8.2 (from ibm-cloud-sdk-core>=3.5.2->ibm-aigov-facts-client==1.0.60->-r requirements.txt (line 2))\n",
      "  Downloading python_dateutil-2.9.0.post0-py2.py3-none-any.whl.metadata (8.4 kB)\n",
      "Collecting PyJWT<3.0.0,>=2.8.0 (from ibm-cloud-sdk-core>=3.5.2->ibm-aigov-facts-client==1.0.60->-r requirements.txt (line 2))\n",
      "  Downloading PyJWT-2.8.0-py3-none-any.whl.metadata (4.2 kB)\n",
      "Collecting parso<0.9.0,>=0.8.3 (from jedi>=0.16->ipython==8.12.0->-r requirements.txt (line 1))\n",
      "  Downloading parso-0.8.3-py2.py3-none-any.whl.metadata (7.5 kB)\n",
      "Collecting ptyprocess>=0.5 (from pexpect>4.3->ipython==8.12.0->-r requirements.txt (line 1))\n",
      "  Downloading ptyprocess-0.7.0-py2.py3-none-any.whl.metadata (1.3 kB)\n",
      "Collecting wcwidth (from prompt-toolkit!=3.0.37,<3.1.0,>=3.0.30->ipython==8.12.0->-r requirements.txt (line 1))\n",
      "  Downloading wcwidth-0.2.13-py2.py3-none-any.whl.metadata (14 kB)\n",
      "Requirement already satisfied: charset-normalizer<4,>=2 in /miniconda3/lib/python3.8/site-packages (from requests<3.0,>=2.0->ibm-aigov-facts-client==1.0.60->-r requirements.txt (line 2)) (2.0.4)\n",
      "Requirement already satisfied: idna<4,>=2.5 in /miniconda3/lib/python3.8/site-packages (from requests<3.0,>=2.0->ibm-aigov-facts-client==1.0.60->-r requirements.txt (line 2)) (3.4)\n",
      "Requirement already satisfied: certifi>=2017.4.17 in /miniconda3/lib/python3.8/site-packages (from requests<3.0,>=2.0->ibm-aigov-facts-client==1.0.60->-r requirements.txt (line 2)) (2023.7.22)\n",
      "Collecting executing>=1.2.0 (from stack-data->ipython==8.12.0->-r requirements.txt (line 1))\n",
      "  Downloading executing-2.0.1-py2.py3-none-any.whl.metadata (9.0 kB)\n",
      "Collecting asttokens>=2.1.0 (from stack-data->ipython==8.12.0->-r requirements.txt (line 1))\n",
      "  Downloading asttokens-2.4.1-py2.py3-none-any.whl.metadata (5.2 kB)\n",
      "Collecting pure-eval (from stack-data->ipython==8.12.0->-r requirements.txt (line 1))\n",
      "  Downloading pure_eval-0.2.2-py3-none-any.whl.metadata (6.2 kB)\n",
      "Requirement already satisfied: six>=1.12.0 in /miniconda3/lib/python3.8/site-packages (from asttokens>=2.1.0->stack-data->ipython==8.12.0->-r requirements.txt (line 1)) (1.15.0)\n",
      "Collecting oauthlib>=3.1.0 (from databricks-cli<1,>=0.8.7->mlflow-skinny==1.28.0->ibm-aigov-facts-client==1.0.60->-r requirements.txt (line 2))\n",
      "  Downloading oauthlib-3.2.2-py3-none-any.whl.metadata (7.5 kB)\n",
      "Collecting tabulate>=0.7.7 (from databricks-cli<1,>=0.8.7->mlflow-skinny==1.28.0->ibm-aigov-facts-client==1.0.60->-r requirements.txt (line 2))\n",
      "  Downloading tabulate-0.9.0-py3-none-any.whl.metadata (34 kB)\n",
      "Collecting gitdb<5,>=4.0.1 (from gitpython<4,>=2.1.0->mlflow-skinny==1.28.0->ibm-aigov-facts-client==1.0.60->-r requirements.txt (line 2))\n",
      "  Downloading gitdb-4.0.11-py3-none-any.whl.metadata (1.2 kB)\n",
      "Collecting zipp>=0.5 (from importlib-metadata!=4.7.0,<5,>=3.7.0->mlflow-skinny==1.28.0->ibm-aigov-facts-client==1.0.60->-r requirements.txt (line 2))\n",
      "  Downloading zipp-3.18.1-py3-none-any.whl.metadata (3.5 kB)\n",
      "Collecting pyparsing!=3.0.5,>=2.0.2 (from packaging<22->mlflow-skinny==1.28.0->ibm-aigov-facts-client==1.0.60->-r requirements.txt (line 2))\n",
      "  Downloading pyparsing-3.1.2-py3-none-any.whl.metadata (5.1 kB)\n",
      "Collecting smmap<6,>=3.0.1 (from gitdb<5,>=4.0.1->gitpython<4,>=2.1.0->mlflow-skinny==1.28.0->ibm-aigov-facts-client==1.0.60->-r requirements.txt (line 2))\n",
      "  Downloading smmap-5.0.1-py3-none-any.whl.metadata (4.3 kB)\n",
      "Downloading ipython-8.12.0-py3-none-any.whl (796 kB)\n",
      "   ━━━━━━━━━━━━━━━━━━━━━━━━━━━━━━━━━━━━━━━━ 796.4/796.4 kB 6.2 MB/s eta 0:00:00\n",
      "Downloading ibm_aigov_facts_client-1.0.60-py3-none-any.whl (171 kB)\n",
      "   ━━━━━━━━━━━━━━━━━━━━━━━━━━━━━━━━━━━━━━━━ 171.2/171.2 kB 21.1 MB/s eta 0:00:00\n",
      "Downloading mlflow_skinny-1.28.0-py3-none-any.whl (3.5 MB)\n",
      "   ━━━━━━━━━━━━━━━━━━━━━━━━━━━━━━━━━━━━━━━━ 3.5/3.5 MB 39.1 MB/s eta 0:00:00\n",
      "Downloading docutils-0.15.2-py3-none-any.whl (547 kB)\n",
      "   ━━━━━━━━━━━━━━━━━━━━━━━━━━━━━━━━━━━━━━━━ 547.6/547.6 kB 42.4 MB/s eta 0:00:00\n",
      "Downloading jedi-0.19.1-py2.py3-none-any.whl (1.6 MB)\n",
      "   ━━━━━━━━━━━━━━━━━━━━━━━━━━━━━━━━━━━━━━━━ 1.6/1.6 MB 78.1 MB/s eta 0:00:00\n",
      "Downloading pexpect-4.9.0-py2.py3-none-any.whl (63 kB)\n",
      "   ━━━━━━━━━━━━━━━━━━━━━━━━━━━━━━━━━━━━━━━━ 63.8/63.8 kB 9.3 MB/s eta 0:00:00\n",
      "Downloading prompt_toolkit-3.0.43-py3-none-any.whl (386 kB)\n",
      "   ━━━━━━━━━━━━━━━━━━━━━━━━━━━━━━━━━━━━━━━━ 386.1/386.1 kB 40.6 MB/s eta 0:00:00\n",
      "Downloading pygments-2.17.2-py3-none-any.whl (1.2 MB)\n",
      "   ━━━━━━━━━━━━━━━━━━━━━━━━━━━━━━━━━━━━━━━━ 1.2/1.2 MB 72.1 MB/s eta 0:00:00\n",
      "Downloading sqlparse-0.4.4-py3-none-any.whl (41 kB)\n",
      "   ━━━━━━━━━━━━━━━━━━━━━━━━━━━━━━━━━━━━━━━━ 41.2/41.2 kB 5.6 MB/s eta 0:00:00\n",
      "Downloading traitlets-5.14.2-py3-none-any.whl (85 kB)\n",
      "   ━━━━━━━━━━━━━━━━━━━━━━━━━━━━━━━━━━━━━━━━ 85.4/85.4 kB 11.5 MB/s eta 0:00:00\n",
      "Downloading backcall-0.2.0-py2.py3-none-any.whl (11 kB)\n",
      "Downloading decorator-5.1.1-py3-none-any.whl (9.1 kB)\n",
      "Downloading matplotlib_inline-0.1.6-py3-none-any.whl (9.4 kB)\n",
      "Downloading pickleshare-0.7.5-py2.py3-none-any.whl (6.9 kB)\n",
      "Downloading python_magic-0.4.27-py2.py3-none-any.whl (13 kB)\n",
      "Downloading stack_data-0.6.3-py3-none-any.whl (24 kB)\n",
      "Downloading typing_extensions-4.10.0-py3-none-any.whl (33 kB)\n",
      "Downloading asttokens-2.4.1-py2.py3-none-any.whl (27 kB)\n",
      "Downloading cloudpickle-2.2.1-py3-none-any.whl (25 kB)\n",
      "Downloading databricks_cli-0.18.0-py2.py3-none-any.whl (150 kB)\n",
      "   ━━━━━━━━━━━━━━━━━━━━━━━━━━━━━━━━━━━━━━━━ 150.3/150.3 kB 17.2 MB/s eta 0:00:00\n",
      "Downloading entrypoints-0.4-py3-none-any.whl (5.3 kB)\n",
      "Downloading executing-2.0.1-py2.py3-none-any.whl (24 kB)\n",
      "Downloading GitPython-3.1.42-py3-none-any.whl (195 kB)\n",
      "   ━━━━━━━━━━━━━━━━━━━━━━━━━━━━━━━━━━━━━━━━ 195.4/195.4 kB 26.0 MB/s eta 0:00:00\n",
      "Downloading importlib_metadata-4.13.0-py3-none-any.whl (23 kB)\n",
      "Downloading packaging-21.3-py3-none-any.whl (40 kB)\n",
      "   ━━━━━━━━━━━━━━━━━━━━━━━━━━━━━━━━━━━━━━━━ 40.8/40.8 kB 5.3 MB/s eta 0:00:00\n",
      "Downloading parso-0.8.3-py2.py3-none-any.whl (100 kB)\n",
      "   ━━━━━━━━━━━━━━━━━━━━━━━━━━━━━━━━━━━━━━━━ 100.8/100.8 kB 15.0 MB/s eta 0:00:00\n",
      "Downloading ptyprocess-0.7.0-py2.py3-none-any.whl (13 kB)\n",
      "Downloading PyJWT-2.8.0-py3-none-any.whl (22 kB)\n",
      "Downloading python_dateutil-2.9.0.post0-py2.py3-none-any.whl (229 kB)\n",
      "   ━━━━━━━━━━━━━━━━━━━━━━━━━━━━━━━━━━━━━━━━ 229.9/229.9 kB 23.8 MB/s eta 0:00:00\n",
      "Downloading pytz-2022.7.1-py2.py3-none-any.whl (499 kB)\n",
      "   ━━━━━━━━━━━━━━━━━━━━━━━━━━━━━━━━━━━━━━━━ 499.4/499.4 kB 46.4 MB/s eta 0:00:00\n",
      "Downloading PyYAML-6.0.1-cp38-cp38-manylinux_2_17_x86_64.manylinux2014_x86_64.whl (736 kB)\n",
      "   ━━━━━━━━━━━━━━━━━━━━━━━━━━━━━━━━━━━━━━━━ 736.6/736.6 kB 56.8 MB/s eta 0:00:00\n",
      "Downloading urllib3-2.2.1-py3-none-any.whl (121 kB)\n",
      "   ━━━━━━━━━━━━━━━━━━━━━━━━━━━━━━━━━━━━━━━━ 121.1/121.1 kB 16.5 MB/s eta 0:00:00\n",
      "Downloading pure_eval-0.2.2-py3-none-any.whl (11 kB)\n",
      "Downloading wcwidth-0.2.13-py2.py3-none-any.whl (34 kB)\n",
      "Downloading gitdb-4.0.11-py3-none-any.whl (62 kB)\n",
      "   ━━━━━━━━━━━━━━━━━━━━━━━━━━━━━━━━━━━━━━━━ 62.7/62.7 kB 9.8 MB/s eta 0:00:00\n",
      "Downloading oauthlib-3.2.2-py3-none-any.whl (151 kB)\n",
      "   ━━━━━━━━━━━━━━━━━━━━━━━━━━━━━━━━━━━━━━━━ 151.7/151.7 kB 19.1 MB/s eta 0:00:00\n",
      "Downloading pyparsing-3.1.2-py3-none-any.whl (103 kB)\n",
      "   ━━━━━━━━━━━━━━━━━━━━━━━━━━━━━━━━━━━━━━━━ 103.2/103.2 kB 15.8 MB/s eta 0:00:00\n",
      "Downloading tabulate-0.9.0-py3-none-any.whl (35 kB)\n",
      "Downloading zipp-3.18.1-py3-none-any.whl (8.2 kB)\n",
      "Downloading smmap-5.0.1-py3-none-any.whl (24 kB)\n",
      "Building wheels for collected packages: ibm-cloud-sdk-core, timeout-decorator\n",
      "  Building wheel for ibm-cloud-sdk-core (pyproject.toml): started\n",
      "  Building wheel for ibm-cloud-sdk-core (pyproject.toml): finished with status 'done'\n",
      "  Created wheel for ibm-cloud-sdk-core: filename=ibm_cloud_sdk_core-3.19.2-py3-none-any.whl size=98827 sha256=2ed32f9831e921feefd30288c5d704819642646ab789f627b4b8fdb4f6fcd029\n",
      "  Stored in directory: /root/.cache/pip/wheels/ac/2f/e5/8ab35eb496496963347820211dcb15d25e7f2e895728b200b5\n",
      "  Building wheel for timeout-decorator (setup.py): started\n",
      "  Building wheel for timeout-decorator (setup.py): finished with status 'done'\n",
      "  Created wheel for timeout-decorator: filename=timeout_decorator-0.5.0-py3-none-any.whl size=5005 sha256=f9106128a7aeb95a14ef2ec22671aa2aa166ea628ab814163e2e2138d14be08b\n",
      "  Stored in directory: /root/.cache/pip/wheels/38/05/4e/161d1463ca145ec1023bd4e5e1f31cbf9239aa8f39a2a2b643\n",
      "Successfully built ibm-cloud-sdk-core timeout-decorator\n",
      "Installing collected packages: wcwidth, timeout-decorator, pytz, pure-eval, ptyprocess, pickleshare, backcall, zipp, urllib3, typing-extensions, traitlets, tabulate, sqlparse, smmap, pyyaml, python-magic, python-dateutil, pyparsing, PyJWT, pygments, prompt-toolkit, pexpect, parso, oauthlib, executing, entrypoints, docutils, decorator, cloudpickle, asttokens, stack-data, packaging, matplotlib-inline, jedi, importlib-metadata, gitdb, ipython, ibm-cloud-sdk-core, gitpython, databricks-cli, mlflow-skinny, ibm-aigov-facts-client\n",
      "  Attempting uninstall: pytz\n",
      "    Found existing installation: pytz 2023.3.post1\n",
      "    Uninstalling pytz-2023.3.post1:\n",
      "      Successfully uninstalled pytz-2023.3.post1\n",
      "  Attempting uninstall: urllib3\n",
      "    Found existing installation: urllib3 1.26.18\n",
      "    Uninstalling urllib3-1.26.18:\n",
      "      Successfully uninstalled urllib3-1.26.18\n",
      "  Attempting uninstall: python-dateutil\n",
      "    Found existing installation: python-dateutil 2.8.1\n",
      "    Uninstalling python-dateutil-2.8.1:\n",
      "      Successfully uninstalled python-dateutil-2.8.1\n",
      "ERROR: pip's dependency resolver does not currently take into account all the packages that are installed. This behaviour is the source of the following dependency conflicts.\n",
      "botocore 1.31.85 requires urllib3<1.27,>=1.25.4; python_version < \"3.10\", but you have urllib3 2.2.1 which is incompatible.\n",
      "sagemaker-sklearn-container 2.0 requires python-dateutil==2.8.1, but you have python-dateutil 2.9.0.post0 which is incompatible.\n",
      "Successfully installed PyJWT-2.8.0 asttokens-2.4.1 backcall-0.2.0 cloudpickle-2.2.1 databricks-cli-0.18.0 decorator-5.1.1 docutils-0.15.2 entrypoints-0.4 executing-2.0.1 gitdb-4.0.11 gitpython-3.1.42 ibm-aigov-facts-client-1.0.60 ibm-cloud-sdk-core-3.19.2 importlib-metadata-4.13.0 ipython-8.12.0 jedi-0.19.1 matplotlib-inline-0.1.6 mlflow-skinny-1.28.0 oauthlib-3.2.2 packaging-21.3 parso-0.8.3 pexpect-4.9.0 pickleshare-0.7.5 prompt-toolkit-3.0.43 ptyprocess-0.7.0 pure-eval-0.2.2 pygments-2.17.2 pyparsing-3.1.2 python-dateutil-2.9.0.post0 python-magic-0.4.27 pytz-2022.7.1 pyyaml-6.0.1 smmap-5.0.1 sqlparse-0.4.4 stack-data-0.6.3 tabulate-0.9.0 timeout-decorator-0.5.0 traitlets-5.14.2 typing-extensions-4.10.0 urllib3-2.2.1 wcwidth-0.2.13 zipp-3.18.1\n",
      "WARNING: Running pip as the 'root' user can result in broken permissions and conflicting behaviour with the system package manager. It is recommended to use a virtual environment instead: https://pip.pypa.io/warnings/venv\n",
      "2024-03-20 00:55:30,502 sagemaker-training-toolkit INFO     No GPUs detected (normal if no gpus installed)\n",
      "2024-03-20 00:55:30,506 sagemaker-training-toolkit INFO     No Neurons detected (normal if no neurons installed)\n",
      "2024-03-20 00:55:30,529 sagemaker-training-toolkit INFO     No GPUs detected (normal if no gpus installed)\n",
      "2024-03-20 00:55:30,533 sagemaker-training-toolkit INFO     No Neurons detected (normal if no neurons installed)\n",
      "2024-03-20 00:55:30,558 sagemaker-training-toolkit INFO     No GPUs detected (normal if no gpus installed)\n",
      "2024-03-20 00:55:30,561 sagemaker-training-toolkit INFO     No Neurons detected (normal if no neurons installed)\n",
      "2024-03-20 00:55:30,581 sagemaker-training-toolkit INFO     Invoking user script\n",
      "Training Env:\n",
      "{\n",
      "    \"additional_framework_parameters\": {},\n",
      "    \"channel_input_dirs\": {\n",
      "        \"test\": \"/opt/ml/input/data/test\",\n",
      "        \"train\": \"/opt/ml/input/data/train\",\n",
      "        \"validation\": \"/opt/ml/input/data/validation\"\n",
      "    },\n",
      "    \"current_host\": \"algo-1\",\n",
      "    \"current_instance_group\": \"homogeneousCluster\",\n",
      "    \"current_instance_group_hosts\": [\n",
      "        \"algo-1\"\n",
      "    ],\n",
      "    \"current_instance_type\": \"ml.m4.xlarge\",\n",
      "    \"distribution_hosts\": [],\n",
      "    \"distribution_instance_groups\": [],\n",
      "    \"framework_module\": \"sagemaker_sklearn_container.training:main\",\n",
      "    \"hosts\": [\n",
      "        \"algo-1\"\n",
      "    ],\n",
      "    \"hyperparameters\": {\n",
      "        \"catalog-id\": \"9974a224-8dfd-4db8-b57b-537701403b30\",\n",
      "        \"cp4d-env\": \"prem\",\n",
      "        \"cp4d-url\": \"https://cpd-cpd-watsonx.apps.65ef0f18e0ddf2001e63add5.cloud.techzone.ibm.com\",\n",
      "        \"cp4d-username\": \"cpadmin\",\n",
      "        \"ibm-key-name\": \"IBM_API_KEY_TESTS_SAAS\",\n",
      "        \"model-entry-id\": \"b9eb0ea9-ac72-438d-ada8-8ac1f0e80851\"\n",
      "    },\n",
      "    \"input_config_dir\": \"/opt/ml/input/config\",\n",
      "    \"input_data_config\": {\n",
      "        \"test\": {\n",
      "            \"ContentType\": \"csv\",\n",
      "            \"TrainingInputMode\": \"File\",\n",
      "            \"S3DistributionType\": \"FullyReplicated\",\n",
      "            \"RecordWrapperType\": \"None\"\n",
      "        },\n",
      "        \"train\": {\n",
      "            \"ContentType\": \"csv\",\n",
      "            \"TrainingInputMode\": \"File\",\n",
      "            \"S3DistributionType\": \"FullyReplicated\",\n",
      "            \"RecordWrapperType\": \"None\"\n",
      "        },\n",
      "        \"validation\": {\n",
      "            \"ContentType\": \"csv\",\n",
      "            \"TrainingInputMode\": \"File\",\n",
      "            \"S3DistributionType\": \"FullyReplicated\",\n",
      "            \"RecordWrapperType\": \"None\"\n",
      "        }\n",
      "    },\n",
      "    \"input_dir\": \"/opt/ml/input\",\n",
      "    \"instance_groups\": [\n",
      "        \"homogeneousCluster\"\n",
      "    ],\n",
      "    \"instance_groups_dict\": {\n",
      "        \"homogeneousCluster\": {\n",
      "            \"instance_group_name\": \"homogeneousCluster\",\n",
      "            \"instance_type\": \"ml.m4.xlarge\",\n",
      "            \"hosts\": [\n",
      "                \"algo-1\"\n",
      "            ]\n",
      "        }\n",
      "    },\n",
      "    \"is_hetero\": false,\n",
      "    \"is_master\": true,\n",
      "    \"is_modelparallel_enabled\": null,\n",
      "    \"is_smddpmprun_installed\": false,\n",
      "    \"is_smddprun_installed\": false,\n",
      "    \"job_name\": \"sm-gcr-scikit-2024-03-20-00-52-19-654\",\n",
      "    \"log_level\": 20,\n",
      "    \"master_hostname\": \"algo-1\",\n",
      "    \"model_dir\": \"/opt/ml/model\",\n",
      "    \"module_dir\": \"s3://sagemaker-ca-central-1-883895198206/sm-gcr-scikit-2024-03-20-00-52-19-654/source/sourcedir.tar.gz\",\n",
      "    \"module_name\": \"train_gcr\",\n",
      "    \"network_interface_name\": \"eth0\",\n",
      "    \"num_cpus\": 4,\n",
      "    \"num_gpus\": 0,\n",
      "    \"num_neurons\": 0,\n",
      "    \"output_data_dir\": \"/opt/ml/output/data\",\n",
      "    \"output_dir\": \"/opt/ml/output\",\n",
      "    \"output_intermediate_dir\": \"/opt/ml/output/intermediate\",\n",
      "    \"resource_config\": {\n",
      "        \"current_host\": \"algo-1\",\n",
      "        \"current_instance_type\": \"ml.m4.xlarge\",\n",
      "        \"current_group_name\": \"homogeneousCluster\",\n",
      "        \"hosts\": [\n",
      "            \"algo-1\"\n",
      "        ],\n",
      "        \"instance_groups\": [\n",
      "            {\n",
      "                \"instance_group_name\": \"homogeneousCluster\",\n",
      "                \"instance_type\": \"ml.m4.xlarge\",\n",
      "                \"hosts\": [\n",
      "                    \"algo-1\"\n",
      "                ]\n",
      "            }\n",
      "        ],\n",
      "        \"network_interface_name\": \"eth0\"\n",
      "    },\n",
      "    \"user_entry_point\": \"train_gcr.py\"\n",
      "}\n",
      "Environment variables:\n",
      "SM_HOSTS=[\"algo-1\"]\n",
      "SM_NETWORK_INTERFACE_NAME=eth0\n",
      "SM_HPS={\"catalog-id\":\"9974a224-8dfd-4db8-b57b-537701403b30\",\"cp4d-env\":\"prem\",\"cp4d-url\":\"https://cpd-cpd-watsonx.apps.65ef0f18e0ddf2001e63add5.cloud.techzone.ibm.com\",\"cp4d-username\":\"cpadmin\",\"ibm-key-name\":\"IBM_API_KEY_TESTS_SAAS\",\"model-entry-id\":\"b9eb0ea9-ac72-438d-ada8-8ac1f0e80851\"}\n",
      "SM_USER_ENTRY_POINT=train_gcr.py\n",
      "SM_FRAMEWORK_PARAMS={}\n",
      "SM_RESOURCE_CONFIG={\"current_group_name\":\"homogeneousCluster\",\"current_host\":\"algo-1\",\"current_instance_type\":\"ml.m4.xlarge\",\"hosts\":[\"algo-1\"],\"instance_groups\":[{\"hosts\":[\"algo-1\"],\"instance_group_name\":\"homogeneousCluster\",\"instance_type\":\"ml.m4.xlarge\"}],\"network_interface_name\":\"eth0\"}\n",
      "SM_INPUT_DATA_CONFIG={\"test\":{\"ContentType\":\"csv\",\"RecordWrapperType\":\"None\",\"S3DistributionType\":\"FullyReplicated\",\"TrainingInputMode\":\"File\"},\"train\":{\"ContentType\":\"csv\",\"RecordWrapperType\":\"None\",\"S3DistributionType\":\"FullyReplicated\",\"TrainingInputMode\":\"File\"},\"validation\":{\"ContentType\":\"csv\",\"RecordWrapperType\":\"None\",\"S3DistributionType\":\"FullyReplicated\",\"TrainingInputMode\":\"File\"}}\n",
      "SM_OUTPUT_DATA_DIR=/opt/ml/output/data\n",
      "SM_CHANNELS=[\"test\",\"train\",\"validation\"]\n",
      "SM_CURRENT_HOST=algo-1\n",
      "SM_CURRENT_INSTANCE_TYPE=ml.m4.xlarge\n",
      "SM_CURRENT_INSTANCE_GROUP=homogeneousCluster\n",
      "SM_CURRENT_INSTANCE_GROUP_HOSTS=[\"algo-1\"]\n",
      "SM_INSTANCE_GROUPS=[\"homogeneousCluster\"]\n",
      "SM_INSTANCE_GROUPS_DICT={\"homogeneousCluster\":{\"hosts\":[\"algo-1\"],\"instance_group_name\":\"homogeneousCluster\",\"instance_type\":\"ml.m4.xlarge\"}}\n",
      "SM_DISTRIBUTION_INSTANCE_GROUPS=[]\n",
      "SM_IS_HETERO=false\n",
      "SM_MODULE_NAME=train_gcr\n",
      "SM_LOG_LEVEL=20\n",
      "SM_FRAMEWORK_MODULE=sagemaker_sklearn_container.training:main\n",
      "SM_INPUT_DIR=/opt/ml/input\n",
      "SM_INPUT_CONFIG_DIR=/opt/ml/input/config\n",
      "SM_OUTPUT_DIR=/opt/ml/output\n",
      "SM_NUM_CPUS=4\n",
      "SM_NUM_GPUS=0\n",
      "SM_NUM_NEURONS=0\n",
      "SM_MODEL_DIR=/opt/ml/model\n",
      "SM_MODULE_DIR=s3://sagemaker-ca-central-1-883895198206/sm-gcr-scikit-2024-03-20-00-52-19-654/source/sourcedir.tar.gz\n",
      "SM_TRAINING_ENV={\"additional_framework_parameters\":{},\"channel_input_dirs\":{\"test\":\"/opt/ml/input/data/test\",\"train\":\"/opt/ml/input/data/train\",\"validation\":\"/opt/ml/input/data/validation\"},\"current_host\":\"algo-1\",\"current_instance_group\":\"homogeneousCluster\",\"current_instance_group_hosts\":[\"algo-1\"],\"current_instance_type\":\"ml.m4.xlarge\",\"distribution_hosts\":[],\"distribution_instance_groups\":[],\"framework_module\":\"sagemaker_sklearn_container.training:main\",\"hosts\":[\"algo-1\"],\"hyperparameters\":{\"catalog-id\":\"9974a224-8dfd-4db8-b57b-537701403b30\",\"cp4d-env\":\"prem\",\"cp4d-url\":\"https://cpd-cpd-watsonx.apps.65ef0f18e0ddf2001e63add5.cloud.techzone.ibm.com\",\"cp4d-username\":\"cpadmin\",\"ibm-key-name\":\"IBM_API_KEY_TESTS_SAAS\",\"model-entry-id\":\"b9eb0ea9-ac72-438d-ada8-8ac1f0e80851\"},\"input_config_dir\":\"/opt/ml/input/config\",\"input_data_config\":{\"test\":{\"ContentType\":\"csv\",\"RecordWrapperType\":\"None\",\"S3DistributionType\":\"FullyReplicated\",\"TrainingInputMode\":\"File\"},\"train\":{\"ContentType\":\"csv\",\"RecordWrapperType\":\"None\",\"S3DistributionType\":\"FullyReplicated\",\"TrainingInputMode\":\"File\"},\"validation\":{\"ContentType\":\"csv\",\"RecordWrapperType\":\"None\",\"S3DistributionType\":\"FullyReplicated\",\"TrainingInputMode\":\"File\"}},\"input_dir\":\"/opt/ml/input\",\"instance_groups\":[\"homogeneousCluster\"],\"instance_groups_dict\":{\"homogeneousCluster\":{\"hosts\":[\"algo-1\"],\"instance_group_name\":\"homogeneousCluster\",\"instance_type\":\"ml.m4.xlarge\"}},\"is_hetero\":false,\"is_master\":true,\"is_modelparallel_enabled\":null,\"is_smddpmprun_installed\":false,\"is_smddprun_installed\":false,\"job_name\":\"sm-gcr-scikit-2024-03-20-00-52-19-654\",\"log_level\":20,\"master_hostname\":\"algo-1\",\"model_dir\":\"/opt/ml/model\",\"module_dir\":\"s3://sagemaker-ca-central-1-883895198206/sm-gcr-scikit-2024-03-20-00-52-19-654/source/sourcedir.tar.gz\",\"module_name\":\"train_gcr\",\"network_interface_name\":\"eth0\",\"num_cpus\":4,\"num_gpus\":0,\"num_neurons\":0,\"output_data_dir\":\"/opt/ml/output/data\",\"output_dir\":\"/opt/ml/output\",\"output_intermediate_dir\":\"/opt/ml/output/intermediate\",\"resource_config\":{\"current_group_name\":\"homogeneousCluster\",\"current_host\":\"algo-1\",\"current_instance_type\":\"ml.m4.xlarge\",\"hosts\":[\"algo-1\"],\"instance_groups\":[{\"hosts\":[\"algo-1\"],\"instance_group_name\":\"homogeneousCluster\",\"instance_type\":\"ml.m4.xlarge\"}],\"network_interface_name\":\"eth0\"},\"user_entry_point\":\"train_gcr.py\"}\n",
      "SM_USER_ARGS=[\"--catalog-id\",\"9974a224-8dfd-4db8-b57b-537701403b30\",\"--cp4d-env\",\"prem\",\"--cp4d-url\",\"https://cpd-cpd-watsonx.apps.65ef0f18e0ddf2001e63add5.cloud.techzone.ibm.com\",\"--cp4d-username\",\"cpadmin\",\"--ibm-key-name\",\"IBM_API_KEY_TESTS_SAAS\",\"--model-entry-id\",\"b9eb0ea9-ac72-438d-ada8-8ac1f0e80851\"]\n",
      "SM_OUTPUT_INTERMEDIATE_DIR=/opt/ml/output/intermediate\n",
      "SM_CHANNEL_TEST=/opt/ml/input/data/test\n",
      "SM_CHANNEL_TRAIN=/opt/ml/input/data/train\n",
      "SM_CHANNEL_VALIDATION=/opt/ml/input/data/validation\n",
      "SM_HP_CATALOG-ID=9974a224-8dfd-4db8-b57b-537701403b30\n",
      "SM_HP_CP4D-ENV=prem\n",
      "SM_HP_CP4D-URL=https://cpd-cpd-watsonx.apps.65ef0f18e0ddf2001e63add5.cloud.techzone.ibm.com\n",
      "SM_HP_CP4D-USERNAME=cpadmin\n",
      "SM_HP_IBM-KEY-NAME=IBM_API_KEY_TESTS_SAAS\n",
      "SM_HP_MODEL-ENTRY-ID=b9eb0ea9-ac72-438d-ada8-8ac1f0e80851\n",
      "PYTHONPATH=/opt/ml/code:/miniconda3/bin:/miniconda3/lib/python38.zip:/miniconda3/lib/python3.8:/miniconda3/lib/python3.8/lib-dynload:/miniconda3/lib/python3.8/site-packages\n",
      "Invoking script with the following command:\n",
      "/miniconda3/bin/python train_gcr.py --catalog-id 9974a224-8dfd-4db8-b57b-537701403b30 --cp4d-env prem --cp4d-url https://cpd-cpd-watsonx.apps.65ef0f18e0ddf2001e63add5.cloud.techzone.ibm.com --cp4d-username cpadmin --ibm-key-name IBM_API_KEY_TESTS_SAAS --model-entry-id b9eb0ea9-ac72-438d-ada8-8ac1f0e80851\n",
      "2024-03-20 00:55:30,583 sagemaker-training-toolkit INFO     Exceptions not imported for SageMaker Debugger as it is not installed.\n",
      "2024-03-20 00:55:30,583 sagemaker-training-toolkit INFO     Exceptions not imported for SageMaker TF as Tensorflow is not installed.\n",
      "[03/20/2024 00:55:32 INFO gcr module] : Running in a SM JOB sm-gcr-scikit-2024-03-20-00-52-19-654\n",
      "2024/03/20 00:55:33 INFO : Experiment sm-gcr-scikit-2024-03-20-00-52-19-654 does not exist, creating new experiment\n",
      "2024/03/20 00:55:33 INFO : Experiment successfully created with ID 1 and name sm-gcr-scikit-2024-03-20-00-52-19-654\n",
      "2024/03/20 00:55:33 INFO : Autolog enabled Successfully\n",
      "initialize ibm_aigov_facts_client version : [1.0.60] - env: [prem]\n",
      "[03/20/2024 00:55:33 INFO gcr module] : Current Experiment sm-gcr-scikit-2024-03-20-00-52-19-654 ID 1\n",
      "training None\n",
      "train /opt/ml/input/data/train\n",
      "params {'num_cpus': 4, 'num_gpus': 0}\n",
      "parameters {'catalog_id': '9974a224-8dfd-4db8-b57b-537701403b30', 'model_entry_id': 'b9eb0ea9-ac72-438d-ada8-8ac1f0e80851', 'ibm_key_name': 'IBM_API_KEY_TESTS_SAAS', 'cp4d_env': 'prem', 'cp4d_username': 'cpadmin', 'cp4d_url': 'https://cpd-cpd-watsonx.apps.65ef0f18e0ddf2001e63add5.cloud.techzone.ibm.com', 'model_name': 'gcr-model', 'model_dir': '/opt/ml/model', 'output_data_dir': '/opt/ml/output/data', 'train': '/opt/ml/input/data/train', 'test': '/opt/ml/input/data/test', 'validation': '/opt/ml/input/data/validation', 'region_name': 'ca-central-1'}\n",
      "SM_CHANNEL_TRAIN /opt/ml/input/data/train\n",
      "SM_CHANNEL_TRAINING None\n",
      "fetch_dataset ['german_credit_data_biased_training.csv']\n",
      "2024/03/20 00:55:34 INFO : logging results to factsheet for run_id 6912b640763e4efcb36a6a42a96cafa7\n",
      "2024/03/20 00:55:35 INFO : Successfully logged results to Factsheet service for run_id 6912b640763e4efcb36a6a42a96cafa7 under asset_id: dccb13cd-645d-44b3-acfa-305baab0699b \n",
      "2024/03/20 00:55:36 INFO : logging results to factsheet for run_id 74c62a4b4baf4af387f72124b944ed8c\n",
      "2024/03/20 00:55:37 INFO : Successfully logged results to Factsheet service for run_id 74c62a4b4baf4af387f72124b944ed8c under asset_id: dccb13cd-645d-44b3-acfa-305baab0699b \n",
      "2024/03/20 00:55:38 INFO : logging results to factsheet for run_id 0f017d0a027f440490e37876de649104\n",
      "2024/03/20 00:55:39 INFO : Successfully logged results to Factsheet service for run_id 0f017d0a027f440490e37876de649104 under asset_id: dccb13cd-645d-44b3-acfa-305baab0699b \n",
      "2024/03/20 00:55:40 INFO : logging results to factsheet for run_id ed008cd0e2974f0c9e0dc97eadbb1d7f\n",
      "2024/03/20 00:55:42 INFO : Successfully logged results to Factsheet service for run_id ed008cd0e2974f0c9e0dc97eadbb1d7f under asset_id: dccb13cd-645d-44b3-acfa-305baab0699b \n",
      "[03/20/2024 00:55:42 INFO gcr module] : \n",
      "              precision    recall  f1-score   support\n",
      "           0       0.92      0.80      0.86       382\n",
      "           1       0.55      0.78      0.65       118\n",
      "    accuracy                           0.80       500\n",
      "   macro avg       0.74      0.79      0.75       500\n",
      "weighted avg       0.83      0.80      0.81       500\n",
      "[03/20/2024 00:55:42 INFO gcr module] : runs :                              run_id  ...                         end_time\n",
      "0  ed008cd0e2974f0c9e0dc97eadbb1d7f  ... 2024-03-20 00:55:42.063000+00:00\n",
      "1  0f017d0a027f440490e37876de649104  ... 2024-03-20 00:55:39.960000+00:00\n",
      "2  74c62a4b4baf4af387f72124b944ed8c  ... 2024-03-20 00:55:37.734000+00:00\n",
      "3  6912b640763e4efcb36a6a42a96cafa7  ... 2024-03-20 00:55:35.891000+00:00\n",
      "[4 rows x 6 columns]\n",
      "[03/20/2024 00:55:42 INFO gcr module] : Current RunID ed008cd0e2974f0c9e0dc97eadbb1d7f\n",
      "2024/03/20 00:55:42 INFO : Initiating logging to factsheet for run_id......ed008cd0e2974f0c9e0dc97eadbb1d7f\n",
      "2024/03/20 00:55:43 INFO : Successfully logged results to Factsheet service for run_id ed008cd0e2974f0c9e0dc97eadbb1d7f under asset_id: dccb13cd-645d-44b3-acfa-305baab0699b \n",
      "2024/03/20 00:55:48 INFO : External model asset saved successfully under asset_id ae462a60-ec9d-4218-a1d2-dfd53bf6c951 and catalog 9221182f-d9a5-4458-a9b4-a4a1f652b0e8\n",
      "2024/03/20 00:55:49 INFO : Current model information: {'asset_id': 'ae462a60-ec9d-4218-a1d2-dfd53bf6c951', 'container_type': 'catalog', 'container_id': '9221182f-d9a5-4458-a9b4-a4a1f652b0e8', 'facts_type': 'modelfacts_user'}\n",
      "2024/03/20 00:55:50 INFO : Current model usecase information: {'model_usecase_id': 'b9eb0ea9-ac72-438d-ada8-8ac1f0e80851', 'container_type': 'catalog', 'catalog_id': '9974a224-8dfd-4db8-b57b-537701403b30', 'facts_type': 'model_entry_user'}\n",
      "2024/03/20 00:55:50 INFO : Approaches retrieved successfully\n",
      "2024/03/20 00:55:51 INFO : Initiate linking model to existing model use case b9eb0ea9-ac72-438d-ada8-8ac1f0e80851\n",
      "2024/03/20 00:56:20 INFO : Successfully finished linking Model ae462a60-ec9d-4218-a1d2-dfd53bf6c951 to model use case\n",
      "2024-03-20 00:56:20,823 sagemaker-containers INFO     Reporting training SUCCESS\n",
      "\n",
      "2024-03-20 00:56:41 Uploading - Uploading generated training model\n",
      "2024-03-20 00:56:41 Completed - Training job completed\n"
     ]
    },
    {
     "name": "stderr",
     "output_type": "stream",
     "text": [
      "2024-03-19 17:56:55,545 - mlmonitor.src - train_sagemaker_job -INFO - Model artifact produced by training job s3://sagemaker-ca-central-1-883895198206/gcr/sm-gcr-scikit-2024-03-20-00-52-19-654/output/model.tar.gz\n"
     ]
    },
    {
     "name": "stdout",
     "output_type": "stream",
     "text": [
      "Training seconds: 187\n",
      "Billable seconds: 187\n"
     ]
    }
   ],
   "source": [
    "model_use_case.train()\n"
   ]
  },
  {
   "cell_type": "code",
   "execution_count": 4,
   "id": "6eb681e3-d110-40e3-9920-d92d776332d4",
   "metadata": {},
   "outputs": [
    {
     "name": "stderr",
     "output_type": "stream",
     "text": [
      "2024-03-19 12:52:45,161 - mlmonitor.src - save_use_case -INFO - SageMakerModelUseCase class saved to ./churn_use_case_trained.json\n"
     ]
    }
   ],
   "source": [
    "model_use_case.save_use_case(file=\"./churn_use_case_trained.json\")"
   ]
  },
  {
   "cell_type": "markdown",
   "id": "d3eb194b",
   "metadata": {
    "id": "2882c73f-8433-466b-b0a1-c79aee8d437f",
    "papermill": {
     "duration": null,
     "end_time": null,
     "exception": null,
     "start_time": null,
     "status": "pending"
    },
    "tags": []
   },
   "source": [
    "### Deploy Sagemaker online endpoint <a name=\"deploy_sm_endpoint\"></a>"
   ]
  },
  {
   "cell_type": "code",
   "execution_count": 5,
   "id": "dbb360d5-e421-452e-a72f-a700b71ee5ee",
   "metadata": {
    "id": "7727a1a8-f91e-4b2f-8909-0d502fff8772"
   },
   "outputs": [
    {
     "name": "stderr",
     "output_type": "stream",
     "text": [
      "2024-03-19 12:52:48,334 - botocore.credentials - load -INFO - Found credentials in environment variables.\n",
      "2024-03-19 12:52:48,951 - botocore.credentials - load -INFO - Found credentials in environment variables.\n",
      "2024-03-19 12:52:49,445 - mlmonitor.src - _get_data -DEBUG - _get_data with dataset_type :validation\n",
      "2024-03-19 12:52:49,445 - mlmonitor.src - _get_data -DEBUG - _get_data with dataset_type :validation\n",
      "2024-03-19 12:52:49,446 - mlmonitor.src - _get_data_location -DEBUG - _get_data_location with dataset_type :validation\n",
      "2024-03-19 12:52:49,497 - sagemaker.image_uris - _validate_py_version_and_set_if_needed -INFO - Defaulting to only available Python version: py3\n",
      "2024-03-19 12:52:49,504 - mlmonitor.src - deploy_sagemaker_endpoint -INFO - endpoint name :[sm-gcr-scikit-2024-03-19-19-48-17-824]\n",
      "ibm key name :[IBM_API_KEY_TESTS_SAAS]\n",
      "model data  :[s3://sagemaker-ca-central-1-883895198206/gcr/sm-gcr-scikit-2024-03-19-19-48-17-824/output/model.tar.gz]\n",
      "container  :[341280168497.dkr.ecr.ca-central-1.amazonaws.com/sagemaker-scikit-learn:1.0-1-cpu-py3]\n",
      "region  :[ca-central-1]\n",
      "\n",
      "2024-03-19 12:52:49,505 - mlmonitor.src - deploy_sagemaker_endpoint -INFO - model_params:\n",
      "{\n",
      "    \"model_data\": \"s3://sagemaker-ca-central-1-883895198206/gcr/sm-gcr-scikit-2024-03-19-19-48-17-824/output/model.tar.gz\",\n",
      "    \"source_dir\": \"/Users/cjouan/Documents/GitHub/mlmonitor/mlmonitor/use_case_gcr\",\n",
      "    \"image_uri\": \"341280168497.dkr.ecr.ca-central-1.amazonaws.com/sagemaker-scikit-learn:1.0-1-cpu-py3\",\n",
      "    \"role\": \"SageMakerRoleCE\",\n",
      "    \"entry_point\": \"inference_aws_gcr.py\",\n",
      "    \"framework_version\": \"1.0-1\",\n",
      "    \"container_log_level\": 20,\n",
      "    \"py_version\": \"py3\"\n",
      "}\n",
      "2024-03-19 12:52:49,505 - mlmonitor.src - deploy_sagemaker_endpoint -INFO - Deploying inference Endpoint sm-gcr-scikit-2024-03-19-19-48-17-824 to AWS\n"
     ]
    },
    {
     "name": "stdout",
     "output_type": "stream",
     "text": [
      "341280168497.dkr.ecr.ca-central-1.amazonaws.com/sagemaker-scikit-learn:1.0-1-cpu-py3\n"
     ]
    },
    {
     "name": "stderr",
     "output_type": "stream",
     "text": [
      "2024-03-19 12:52:52,777 - sagemaker - submit -INFO - Creating model with name: sagemaker-scikit-learn-2024-03-19-19-52-52-329\n",
      "2024-03-19 12:52:53,704 - sagemaker - endpoint_from_production_variants -INFO - Creating endpoint-config with name sm-gcr-scikit-2024-03-19-19-48-17-824\n",
      "2024-03-19 12:52:53,991 - sagemaker - create_endpoint -INFO - Creating endpoint with name sm-gcr-scikit-2024-03-19-19-48-17-824\n"
     ]
    },
    {
     "name": "stdout",
     "output_type": "stream",
     "text": [
      "------!"
     ]
    },
    {
     "name": "stderr",
     "output_type": "stream",
     "text": [
      "2024-03-19 12:56:25,611 - sagemaker.deprecations - _warn -WARNING - The endpoint attribute has been renamed in sagemaker>=2.\n",
      "See: https://sagemaker.readthedocs.io/en/stable/v2.html for details.\n",
      "2024-03-19 12:56:26,183 - mlmonitor.src - deploy_sagemaker_endpoint -INFO - Raw Predictions received for 2 samples:\n",
      "{'predictions': [{'predicted_label': 0, 'score': 0.6516040715849079}, {'predicted_label': 0, 'score': 0.8887058853483714}]}\n"
     ]
    }
   ],
   "source": [
    "model_use_case.deploy()"
   ]
  },
  {
   "cell_type": "markdown",
   "id": "6b9cab5b",
   "metadata": {
    "id": "3be7e347211540f29e5e0d261ea788fe"
   },
   "source": [
    "### Govern Sagemaker online endpoint <a name=\"govern_sm_endpoint\"></a>"
   ]
  },
  {
   "cell_type": "code",
   "execution_count": 6,
   "id": "a25e0066",
   "metadata": {
    "id": "1a2eff65674b4d5484e503b1a88529ef"
   },
   "outputs": [
    {
     "name": "stderr",
     "output_type": "stream",
     "text": [
      "2024-03-19 12:56:51,623 - botocore.credentials - load -INFO - Found credentials in environment variables.\n",
      "2024-03-19 12:56:52,204 - mlmonitor.src - govern_sagemaker_endpoint -INFO - Model use case id [b9eb0ea9-ac72-438d-ada8-8ac1f0e80851]\n",
      "catalog id [9974a224-8dfd-4db8-b57b-537701403b30]\n",
      "\n"
     ]
    },
    {
     "name": "stdout",
     "output_type": "stream",
     "text": [
      "2024/03/19 12:56:54 INFO :  Experiment sm-gcr-scikit-2024-03-19-19-48-17-824 does not exist, creating new experiment\n",
      "2024/03/19 12:56:54 INFO : Experiment successfully created with ID 785127679486898576 and name sm-gcr-scikit-2024-03-19-19-48-17-824\n",
      "2024/03/19 12:56:54 INFO : Manual tracing initiated successfully under run b1c3c68c1c33478ab4f8c4dd03fa366e\n",
      "Current RunID b1c3c68c1c33478ab4f8c4dd03fa366e\n",
      "2024/03/19 12:56:54 INFO : logged params ['EndpointName'] successfully under run b1c3c68c1c33478ab4f8c4dd03fa366e\n",
      "2024/03/19 12:56:54 INFO : logged params ['EndpointName', 'EndpointArn', 'EndpointConfigName', 'CreationTime', 'EndpointStatus', 'ModelName', 'PrimaryContainer', 'ModelDataUrl', 'entry_point', 'source_dir', 'framework_version', 'framework'] successfully under run b1c3c68c1c33478ab4f8c4dd03fa366e\n",
      "2024/03/19 12:56:54 INFO : logging results to factsheet for run_id b1c3c68c1c33478ab4f8c4dd03fa366e\n",
      "2024/03/19 12:56:56 INFO : Successfully logged results to Factsheet service for run_id b1c3c68c1c33478ab4f8c4dd03fa366e under asset_id: a8767fd2-5fd9-4ed5-a8b7-94ee6ec6fce2 \n",
      "2024/03/19 12:57:00 INFO : External model asset saved successfully under asset_id e3d32e3b-af78-4684-a976-7296ef47b2b0 and catalog 9221182f-d9a5-4458-a9b4-a4a1f652b0e8\n",
      "2024/03/19 12:57:02 INFO : Current model information: {'asset_id': 'e3d32e3b-af78-4684-a976-7296ef47b2b0', 'container_type': 'catalog', 'container_id': '9221182f-d9a5-4458-a9b4-a4a1f652b0e8', 'facts_type': 'modelfacts_user'}\n",
      "2024/03/19 12:57:03 INFO : Current model usecase information: {'model_usecase_id': 'b9eb0ea9-ac72-438d-ada8-8ac1f0e80851', 'container_type': 'catalog', 'catalog_id': '9974a224-8dfd-4db8-b57b-537701403b30', 'facts_type': 'model_entry_user'}\n",
      "2024/03/19 12:57:03 INFO : Approaches retrieved successfully\n",
      "2024/03/19 12:57:04 INFO : Initiate linking model to existing model use case b9eb0ea9-ac72-438d-ada8-8ac1f0e80851\n",
      "2024/03/19 12:57:31 INFO : Successfully finished linking Model e3d32e3b-af78-4684-a976-7296ef47b2b0 to model use case\n",
      "https://cpd-cpd-watsonx.apps.65ef0f18e0ddf2001e63add5.cloud.techzone.ibm.com/v1/aigov/model_inventory/model_entries/b9eb0ea9-ac72-438d-ada8-8ac1f0e80851/models?catalog_id=9974a224-8dfd-4db8-b57b-537701403b30&allow_metadata_on_dpr_deny=true\n"
     ]
    }
   ],
   "source": [
    "model_use_case.govern()"
   ]
  },
  {
   "cell_type": "markdown",
   "id": "0a63d8a7",
   "metadata": {
    "id": "4613f3fb-0aa1-4761-8312-b54f51f3f1fe",
    "papermill": {
     "duration": null,
     "end_time": null,
     "exception": null,
     "start_time": null,
     "status": "pending"
    },
    "tags": []
   },
   "source": [
    "### Score Sagemaker model <a name=\"score_endpoint\"></a>"
   ]
  },
  {
   "cell_type": "code",
   "execution_count": 7,
   "id": "df371cc4-c997-4ca1-8341-3f19942f4b98",
   "metadata": {
    "id": "6e823db6-07e1-4a9d-b51f-42d665ccf477"
   },
   "outputs": [
    {
     "name": "stdout",
     "output_type": "stream",
     "text": [
      "response_time 487ms\n"
     ]
    },
    {
     "data": {
      "text/plain": [
       "{'fields': ['predicted_label', 'score'],\n",
       " 'values': [[1, 0.9732093137578802],\n",
       "  [0, 0.6084513154244828],\n",
       "  [0, 0.5777523682625558],\n",
       "  [1, 0.9471947486617363],\n",
       "  [0, 0.9386829458205761],\n",
       "  [1, 0.8120161942712155],\n",
       "  [0, 0.9273662228673447],\n",
       "  [1, 0.6752758162784168],\n",
       "  [0, 0.7144591638241065],\n",
       "  [0, 0.9890679944672004]]}"
      ]
     },
     "execution_count": 7,
     "metadata": {},
     "output_type": "execute_result"
    }
   ],
   "source": [
    "model_use_case.score_model()"
   ]
  },
  {
   "cell_type": "markdown",
   "id": "de861940-fd3d-4b2b-b3f6-b7a05ecaae07",
   "metadata": {
    "id": "7cc9318a-1332-4ebe-b262-92a0a160de80"
   },
   "source": [
    "### Configure Monitoring <a name=\"monitor_endpoint\"></a>"
   ]
  },
  {
   "cell_type": "code",
   "execution_count": 8,
   "id": "a6bbc98b-4305-49ea-a04e-a1f7fd30b8df",
   "metadata": {
    "id": "e93c4cf4-d4b2-47db-819b-daf1a393d350"
   },
   "outputs": [
    {
     "name": "stdout",
     "output_type": "stream",
     "text": [
      "Uploading item to bucket: ice-demo-prem, key: german_credit_data_biased_training.csv\n",
      "\n",
      "\n",
      "=================================================================================\n",
      "\n",
      " Waiting for end of adding service provider ddae6f10-9f81-4513-b25c-9e8af754c4bb \n",
      "\n",
      "=================================================================================\n",
      "\n",
      "\n",
      "\n",
      "active\n",
      "\n",
      "-----------------------------------------------\n",
      " Successfully finished adding service provider \n",
      "-----------------------------------------------\n",
      "\n",
      "\n",
      "found 1 data mart :  ['00000000-0000-0000-0000-000000000000'] , Using existing Data Mart id 00000000-0000-0000-0000-000000000000\n",
      "\n",
      "\n",
      "=============================================================================\n",
      "\n",
      " Waiting for end of adding subscription 30cbf2a2-d6cd-4290-b2bf-1d56e0bff488 \n",
      "\n",
      "=============================================================================\n",
      "\n",
      "\n",
      "\n",
      "preparing\n",
      "active\n",
      "\n",
      "-------------------------------------------\n",
      " Successfully finished adding subscription \n",
      "-------------------------------------------\n",
      "\n",
      "\n",
      "response_time 427ms\n",
      "\n",
      "\n",
      "==========================================================================================\n",
      "\n",
      " Waiting for end of storing records with request id: 2b3df883-1705-4c2b-8654-ed9498aba4d4 \n",
      "\n",
      "==========================================================================================\n",
      "\n",
      "\n",
      "\n",
      "pending\n",
      "active\n",
      "\n",
      "---------------------------------------\n",
      " Successfully finished storing records \n",
      "---------------------------------------\n",
      "\n",
      "\n",
      "\n",
      "\n",
      "===================================================================================\n",
      "\n",
      " Waiting for end of monitor instance creation 7bf00299-3063-49db-ad7d-84aaf937aa09 \n",
      "\n",
      "===================================================================================\n",
      "\n",
      "\n",
      "\n",
      "active\n",
      "\n",
      "---------------------------------------\n",
      " Monitor instance successfully created \n",
      "---------------------------------------\n",
      "\n",
      "\n"
     ]
    },
    {
     "data": {
      "text/html": [
       "<HTML>\n",
       "        <body>\n",
       "            <h3>Schema of 4b4282c6-5a76-49f1-a2a3-cab023dcf6ba data set</h3>\n",
       "            <table style='border: 1px solid #dddddd; font-family: Courier'>\n",
       "                <th style='border: 1px solid #dddddd'>name</th><th style='border: 1px solid #dddddd'>type</th><th style='border: 1px solid #dddddd'>nullable</th>\n",
       "                <tr><td style='border: 1px solid #dddddd'>scoring_id</td><td style='border: 1px solid #dddddd'>string</td><td style='border: 1px solid #dddddd'>False</td></tr><tr><td style='border: 1px solid #dddddd'>scoring_timestamp</td><td style='border: 1px solid #dddddd'>timestamp</td><td style='border: 1px solid #dddddd'>False</td></tr><tr><td style='border: 1px solid #dddddd'>deployment_id</td><td style='border: 1px solid #dddddd'>string</td><td style='border: 1px solid #dddddd'>False</td></tr><tr><td style='border: 1px solid #dddddd'>asset_revision</td><td style='border: 1px solid #dddddd'>string</td><td style='border: 1px solid #dddddd'>True</td></tr><tr><td style='border: 1px solid #dddddd'>CheckingStatus</td><td style='border: 1px solid #dddddd'>string</td><td style='border: 1px solid #dddddd'>True</td></tr><tr><td style='border: 1px solid #dddddd'>LoanDuration</td><td style='border: 1px solid #dddddd'>integer</td><td style='border: 1px solid #dddddd'>True</td></tr><tr><td style='border: 1px solid #dddddd'>CreditHistory</td><td style='border: 1px solid #dddddd'>string</td><td style='border: 1px solid #dddddd'>True</td></tr><tr><td style='border: 1px solid #dddddd'>LoanPurpose</td><td style='border: 1px solid #dddddd'>string</td><td style='border: 1px solid #dddddd'>True</td></tr><tr><td style='border: 1px solid #dddddd'>LoanAmount</td><td style='border: 1px solid #dddddd'>integer</td><td style='border: 1px solid #dddddd'>True</td></tr><tr><td style='border: 1px solid #dddddd'>ExistingSavings</td><td style='border: 1px solid #dddddd'>string</td><td style='border: 1px solid #dddddd'>True</td></tr><tr><td style='border: 1px solid #dddddd'>EmploymentDuration</td><td style='border: 1px solid #dddddd'>string</td><td style='border: 1px solid #dddddd'>True</td></tr><tr><td style='border: 1px solid #dddddd'>InstallmentPercent</td><td style='border: 1px solid #dddddd'>integer</td><td style='border: 1px solid #dddddd'>True</td></tr><tr><td style='border: 1px solid #dddddd'>Sex</td><td style='border: 1px solid #dddddd'>string</td><td style='border: 1px solid #dddddd'>True</td></tr><tr><td style='border: 1px solid #dddddd'>OthersOnLoan</td><td style='border: 1px solid #dddddd'>string</td><td style='border: 1px solid #dddddd'>True</td></tr><tr><td style='border: 1px solid #dddddd'>CurrentResidenceDuration</td><td style='border: 1px solid #dddddd'>integer</td><td style='border: 1px solid #dddddd'>True</td></tr><tr><td style='border: 1px solid #dddddd'>OwnsProperty</td><td style='border: 1px solid #dddddd'>string</td><td style='border: 1px solid #dddddd'>True</td></tr><tr><td style='border: 1px solid #dddddd'>Age</td><td style='border: 1px solid #dddddd'>integer</td><td style='border: 1px solid #dddddd'>True</td></tr><tr><td style='border: 1px solid #dddddd'>InstallmentPlans</td><td style='border: 1px solid #dddddd'>string</td><td style='border: 1px solid #dddddd'>True</td></tr><tr><td style='border: 1px solid #dddddd'>Housing</td><td style='border: 1px solid #dddddd'>string</td><td style='border: 1px solid #dddddd'>True</td></tr><tr><td style='border: 1px solid #dddddd'>ExistingCreditsCount</td><td style='border: 1px solid #dddddd'>integer</td><td style='border: 1px solid #dddddd'>True</td></tr><tr><td style='border: 1px solid #dddddd'>Job</td><td style='border: 1px solid #dddddd'>string</td><td style='border: 1px solid #dddddd'>True</td></tr><tr><td style='border: 1px solid #dddddd'>Dependents</td><td style='border: 1px solid #dddddd'>integer</td><td style='border: 1px solid #dddddd'>True</td></tr><tr><td style='border: 1px solid #dddddd'>Telephone</td><td style='border: 1px solid #dddddd'>string</td><td style='border: 1px solid #dddddd'>True</td></tr><tr><td style='border: 1px solid #dddddd'>ForeignWorker</td><td style='border: 1px solid #dddddd'>string</td><td style='border: 1px solid #dddddd'>True</td></tr><tr><td style='border: 1px solid #dddddd'>predicted_label</td><td style='border: 1px solid #dddddd'>integer</td><td style='border: 1px solid #dddddd'>True</td></tr><tr><td style='border: 1px solid #dddddd'>score</td><td style='border: 1px solid #dddddd'>double</td><td style='border: 1px solid #dddddd'>True</td></tr><tr><td style='border: 1px solid #dddddd'>prediction_probability</td><td style='border: 1px solid #dddddd'>double</td><td style='border: 1px solid #dddddd'>True</td></tr><tr><td style='border: 1px solid #dddddd'>ProbabilityVector</td><td style='border: 1px solid #dddddd'>{'containsNull': True, 'elementType': 'double', 'type': 'array'}</td><td style='border: 1px solid #dddddd'>True</td></tr>\n",
       "            </table>\n",
       "        </body>\n",
       "        </HTML>"
      ],
      "text/plain": [
       "<IPython.core.display.HTML object>"
      ]
     },
     "metadata": {},
     "output_type": "display_data"
    }
   ],
   "source": [
    "model_use_case.monitor()"
   ]
  },
  {
   "cell_type": "markdown",
   "id": "23111939-96ca-4315-800c-464c7b120147",
   "metadata": {
    "id": "d4e57fc9-fd47-45ca-940e-7afc6d0ac03f"
   },
   "source": [
    "### Configure Quality Monitor <a name=\"quality_monitor\"></a>"
   ]
  },
  {
   "cell_type": "code",
   "execution_count": 9,
   "id": "f9461ef9-1616-48b5-986d-85bffea7b2a6",
   "metadata": {
    "id": "7464086c-b047-40c2-bb26-f342f2b6ca29"
   },
   "outputs": [
    {
     "name": "stdout",
     "output_type": "stream",
     "text": [
      "\n",
      "\n",
      "===================================================================================\n",
      "\n",
      " Waiting for end of monitor instance creation edcbf395-f2d3-4e97-93f0-1714aafbc79f \n",
      "\n",
      "===================================================================================\n",
      "\n",
      "\n",
      "\n",
      "preparing\n",
      "active\n",
      "\n",
      "---------------------------------------\n",
      " Monitor instance successfully created \n",
      "---------------------------------------\n",
      "\n",
      "\n"
     ]
    },
    {
     "data": {
      "text/html": [
       "<HTML>\n",
       "        <body>\n",
       "            <h3>Schema of 484f7251-3e85-41e8-a6b0-69f953fb303c data set</h3>\n",
       "            <table style='border: 1px solid #dddddd; font-family: Courier'>\n",
       "                <th style='border: 1px solid #dddddd'>name</th><th style='border: 1px solid #dddddd'>type</th><th style='border: 1px solid #dddddd'>nullable</th>\n",
       "                <tr><td style='border: 1px solid #dddddd'>CheckingStatus</td><td style='border: 1px solid #dddddd'>string</td><td style='border: 1px solid #dddddd'>True</td></tr><tr><td style='border: 1px solid #dddddd'>LoanDuration</td><td style='border: 1px solid #dddddd'>integer</td><td style='border: 1px solid #dddddd'>True</td></tr><tr><td style='border: 1px solid #dddddd'>CreditHistory</td><td style='border: 1px solid #dddddd'>string</td><td style='border: 1px solid #dddddd'>True</td></tr><tr><td style='border: 1px solid #dddddd'>LoanPurpose</td><td style='border: 1px solid #dddddd'>string</td><td style='border: 1px solid #dddddd'>True</td></tr><tr><td style='border: 1px solid #dddddd'>LoanAmount</td><td style='border: 1px solid #dddddd'>integer</td><td style='border: 1px solid #dddddd'>True</td></tr><tr><td style='border: 1px solid #dddddd'>ExistingSavings</td><td style='border: 1px solid #dddddd'>string</td><td style='border: 1px solid #dddddd'>True</td></tr><tr><td style='border: 1px solid #dddddd'>EmploymentDuration</td><td style='border: 1px solid #dddddd'>string</td><td style='border: 1px solid #dddddd'>True</td></tr><tr><td style='border: 1px solid #dddddd'>InstallmentPercent</td><td style='border: 1px solid #dddddd'>integer</td><td style='border: 1px solid #dddddd'>True</td></tr><tr><td style='border: 1px solid #dddddd'>Sex</td><td style='border: 1px solid #dddddd'>string</td><td style='border: 1px solid #dddddd'>True</td></tr><tr><td style='border: 1px solid #dddddd'>OthersOnLoan</td><td style='border: 1px solid #dddddd'>string</td><td style='border: 1px solid #dddddd'>True</td></tr><tr><td style='border: 1px solid #dddddd'>CurrentResidenceDuration</td><td style='border: 1px solid #dddddd'>integer</td><td style='border: 1px solid #dddddd'>True</td></tr><tr><td style='border: 1px solid #dddddd'>OwnsProperty</td><td style='border: 1px solid #dddddd'>string</td><td style='border: 1px solid #dddddd'>True</td></tr><tr><td style='border: 1px solid #dddddd'>Age</td><td style='border: 1px solid #dddddd'>integer</td><td style='border: 1px solid #dddddd'>True</td></tr><tr><td style='border: 1px solid #dddddd'>InstallmentPlans</td><td style='border: 1px solid #dddddd'>string</td><td style='border: 1px solid #dddddd'>True</td></tr><tr><td style='border: 1px solid #dddddd'>Housing</td><td style='border: 1px solid #dddddd'>string</td><td style='border: 1px solid #dddddd'>True</td></tr><tr><td style='border: 1px solid #dddddd'>ExistingCreditsCount</td><td style='border: 1px solid #dddddd'>integer</td><td style='border: 1px solid #dddddd'>True</td></tr><tr><td style='border: 1px solid #dddddd'>Job</td><td style='border: 1px solid #dddddd'>string</td><td style='border: 1px solid #dddddd'>True</td></tr><tr><td style='border: 1px solid #dddddd'>Dependents</td><td style='border: 1px solid #dddddd'>integer</td><td style='border: 1px solid #dddddd'>True</td></tr><tr><td style='border: 1px solid #dddddd'>Telephone</td><td style='border: 1px solid #dddddd'>string</td><td style='border: 1px solid #dddddd'>True</td></tr><tr><td style='border: 1px solid #dddddd'>ForeignWorker</td><td style='border: 1px solid #dddddd'>string</td><td style='border: 1px solid #dddddd'>True</td></tr><tr><td style='border: 1px solid #dddddd'>Risk</td><td style='border: 1px solid #dddddd'>integer</td><td style='border: 1px solid #dddddd'>True</td></tr><tr><td style='border: 1px solid #dddddd'>record_id</td><td style='border: 1px solid #dddddd'>string</td><td style='border: 1px solid #dddddd'>False</td></tr><tr><td style='border: 1px solid #dddddd'>record_timestamp</td><td style='border: 1px solid #dddddd'>timestamp</td><td style='border: 1px solid #dddddd'>False</td></tr><tr><td style='border: 1px solid #dddddd'>transaction_id</td><td style='border: 1px solid #dddddd'>string</td><td style='border: 1px solid #dddddd'>True</td></tr><tr><td style='border: 1px solid #dddddd'>_original_prediction</td><td style='border: 1px solid #dddddd'>integer</td><td style='border: 1px solid #dddddd'>True</td></tr><tr><td style='border: 1px solid #dddddd'>_original_probability</td><td style='border: 1px solid #dddddd'>{'containsNull': True, 'elementType': 'double', 'type': 'array'}</td><td style='border: 1px solid #dddddd'>True</td></tr><tr><td style='border: 1px solid #dddddd'>_debiased_prediction</td><td style='border: 1px solid #dddddd'>integer</td><td style='border: 1px solid #dddddd'>True</td></tr><tr><td style='border: 1px solid #dddddd'>_debiased_probability</td><td style='border: 1px solid #dddddd'>{'containsNull': True, 'elementType': 'double', 'type': 'array'}</td><td style='border: 1px solid #dddddd'>True</td></tr>\n",
       "            </table>\n",
       "        </body>\n",
       "        </HTML>"
      ],
      "text/plain": [
       "<IPython.core.display.HTML object>"
      ]
     },
     "metadata": {},
     "output_type": "display_data"
    },
    {
     "data": {
      "text/plain": [
       "{'quality': 'edcbf395-f2d3-4e97-93f0-1714aafbc79f',\n",
       " 'mrm': '7bf00299-3063-49db-ad7d-84aaf937aa09'}"
      ]
     },
     "execution_count": 9,
     "metadata": {},
     "output_type": "execute_result"
    }
   ],
   "source": [
    "model_use_case.configure_quality_monitor()"
   ]
  },
  {
   "cell_type": "markdown",
   "id": "f941ad2b-4f55-4bca-92ef-b90f1a315cc0",
   "metadata": {
    "id": "07067b4c-de6d-40da-9f35-15af887e68eb"
   },
   "source": [
    "### Configure Explainability Monitor <a name=\"explain_monitor\"></a>"
   ]
  },
  {
   "cell_type": "code",
   "execution_count": 10,
   "id": "7995c4c8-bfbd-4228-b376-56af390cf0e3",
   "metadata": {
    "id": "5269bd49-d95d-4c8a-a7ae-34d684c6dbd1"
   },
   "outputs": [
    {
     "name": "stdout",
     "output_type": "stream",
     "text": [
      "\n",
      "\n",
      "===================================================================================\n",
      "\n",
      " Waiting for end of monitor instance creation 5ae53e73-0d4e-440f-b482-d4b61fe7cc2b \n",
      "\n",
      "===================================================================================\n",
      "\n",
      "\n",
      "\n",
      "preparing.\n",
      "active\n",
      "\n",
      "---------------------------------------\n",
      " Monitor instance successfully created \n",
      "---------------------------------------\n",
      "\n",
      "\n"
     ]
    },
    {
     "data": {
      "text/plain": [
       "{'explainability': '5ae53e73-0d4e-440f-b482-d4b61fe7cc2b',\n",
       " 'quality': 'edcbf395-f2d3-4e97-93f0-1714aafbc79f',\n",
       " 'mrm': '7bf00299-3063-49db-ad7d-84aaf937aa09'}"
      ]
     },
     "execution_count": 10,
     "metadata": {},
     "output_type": "execute_result"
    }
   ],
   "source": [
    "model_use_case.configure_explainability_monitor()"
   ]
  },
  {
   "cell_type": "markdown",
   "id": "290978e1-a311-4ea0-b7fe-3e6820e985bd",
   "metadata": {
    "id": "6ac38ab1-59c0-4cde-8707-637164294967"
   },
   "source": [
    "### Configure Fairness Monitor <a name=\"fairness_monitor\"></a>"
   ]
  },
  {
   "cell_type": "code",
   "execution_count": 11,
   "id": "c1ffff78-99dc-4d4d-9711-6c6cb00f4aa5",
   "metadata": {
    "id": "8f765803-bd7b-4229-a3d9-b2a01f2c8b93"
   },
   "outputs": [
    {
     "name": "stdout",
     "output_type": "stream",
     "text": [
      "\n",
      "\n",
      "===================================================================================\n",
      "\n",
      " Waiting for end of monitor instance creation 60323fda-77c3-49c8-81da-ec19b98d767f \n",
      "\n",
      "===================================================================================\n",
      "\n",
      "\n",
      "\n",
      "active\n",
      "\n",
      "---------------------------------------\n",
      " Monitor instance successfully created \n",
      "---------------------------------------\n",
      "\n",
      "\n"
     ]
    },
    {
     "data": {
      "text/plain": [
       "{'fairness': '60323fda-77c3-49c8-81da-ec19b98d767f',\n",
       " 'explainability': '5ae53e73-0d4e-440f-b482-d4b61fe7cc2b',\n",
       " 'quality': 'edcbf395-f2d3-4e97-93f0-1714aafbc79f',\n",
       " 'mrm': '7bf00299-3063-49db-ad7d-84aaf937aa09'}"
      ]
     },
     "execution_count": 11,
     "metadata": {},
     "output_type": "execute_result"
    }
   ],
   "source": [
    "model_use_case.configure_fairness_monitor()"
   ]
  },
  {
   "cell_type": "markdown",
   "id": "92401344",
   "metadata": {
    "id": "5ec8f584-dd1a-4092-8e14-facd02ac6068"
   },
   "source": [
    "### Configure Drift Monitor <a name=\"drift_monitor\"></a>"
   ]
  },
  {
   "cell_type": "code",
   "execution_count": 22,
   "id": "5c0a7cdd",
   "metadata": {
    "id": "53fb25c6-246b-4f01-9f06-7f3c084bb072"
   },
   "outputs": [
    {
     "name": "stderr",
     "output_type": "stream",
     "text": [
      "WARNING:mlmonitor.src:run pip install mlmonitor[drift] to configure drift\n",
      "WARNING:mlmonitor.src:run pip install mlmonitor[drift] to be able to configure drift monitor\n"
     ]
    },
    {
     "data": {
      "text/plain": [
       "{'model_health': '20c5084d-42fe-4845-9889-3489b9b8cfd2',\n",
       " 'quality': 'edcbf395-f2d3-4e97-93f0-1714aafbc79f',\n",
       " 'fairness': '60323fda-77c3-49c8-81da-ec19b98d767f',\n",
       " 'explainability': '5ae53e73-0d4e-440f-b482-d4b61fe7cc2b',\n",
       " 'mrm': '7bf00299-3063-49db-ad7d-84aaf937aa09'}"
      ]
     },
     "execution_count": 22,
     "metadata": {},
     "output_type": "execute_result"
    }
   ],
   "source": [
    "model_use_case.configure_drift_monitor()"
   ]
  },
  {
   "cell_type": "markdown",
   "id": "eb875af6",
   "metadata": {
    "id": "d037d010-de6c-4499-b53a-52fe355710c4"
   },
   "source": [
    "### Log feedback data <a name=\"feedback_logging\"></a>"
   ]
  },
  {
   "cell_type": "code",
   "execution_count": 13,
   "id": "aad54854",
   "metadata": {
    "id": "7584d0b5-1d60-4111-ad99-f2da1c7c19f0"
   },
   "outputs": [
    {
     "name": "stdout",
     "output_type": "stream",
     "text": [
      "\n",
      "\n",
      "==========================================================================================\n",
      "\n",
      " Waiting for end of storing records with request id: 67a1bb5c-2909-45c6-857e-44227cdb56a1 \n",
      "\n",
      "==========================================================================================\n",
      "\n",
      "\n",
      "\n",
      "pending\n",
      "active\n",
      "\n",
      "---------------------------------------\n",
      " Successfully finished storing records \n",
      "---------------------------------------\n",
      "\n",
      "\n"
     ]
    }
   ],
   "source": [
    "model_use_case.log_feedback()"
   ]
  },
  {
   "cell_type": "markdown",
   "id": "e865291d",
   "metadata": {
    "id": "6a143ec4-7f25-4cdd-8015-298d5bdfea9a"
   },
   "source": [
    "### Log Payload data <a name=\"payload_logging\"></a>"
   ]
  },
  {
   "cell_type": "code",
   "execution_count": 14,
   "id": "cbc92394",
   "metadata": {
    "id": "c02c75ed-0beb-47df-84c7-0f31355f1293"
   },
   "outputs": [
    {
     "name": "stdout",
     "output_type": "stream",
     "text": [
      "response_time 594ms\n",
      "\n",
      "\n",
      "==========================================================================================\n",
      "\n",
      " Waiting for end of storing records with request id: 14578c68-f1f0-4774-ad41-e95611ca2b67 \n",
      "\n",
      "==========================================================================================\n",
      "\n",
      "\n",
      "\n",
      "active\n",
      "\n",
      "---------------------------------------\n",
      " Successfully finished storing records \n",
      "---------------------------------------\n",
      "\n",
      "\n"
     ]
    }
   ],
   "source": [
    "model_use_case.log_payload()"
   ]
  },
  {
   "cell_type": "markdown",
   "id": "ded11c6a-c3da-40eb-9931-e79d1ea516a7",
   "metadata": {
    "id": "73f3eb38-16a1-4694-840a-4c7174afc24e"
   },
   "source": [
    "### Evaluate monitors <a name=\"evaluate_monitors\"></a>"
   ]
  },
  {
   "cell_type": "code",
   "execution_count": 15,
   "id": "9bb4107e-2670-4c42-b7fd-635b1a377030",
   "metadata": {
    "id": "8f4344fe-61a3-4ed4-937b-3f2d25bc20e3"
   },
   "outputs": [
    {
     "name": "stdout",
     "output_type": "stream",
     "text": [
      "\n",
      "\n",
      "========================================================================\n",
      "\n",
      " Waiting for end of monitoring run 3edfb18c-27dc-4251-a597-eec9928aa691 \n",
      "\n",
      "========================================================================\n",
      "\n",
      "\n",
      "\n",
      "running..\n",
      "finished\n",
      "\n",
      "---------------------------\n",
      " Successfully finished run \n",
      "---------------------------\n",
      "\n",
      "\n",
      "\n",
      "\n",
      "========================================================================\n",
      "\n",
      " Waiting for end of monitoring run 79f31831-24da-4892-8747-cf6aed45e52b \n",
      "\n",
      "========================================================================\n",
      "\n",
      "\n",
      "\n",
      "running\n",
      "finished\n",
      "\n",
      "---------------------------\n",
      " Successfully finished run \n",
      "---------------------------\n",
      "\n",
      "\n"
     ]
    }
   ],
   "source": [
    "model_use_case.evaluate_model()"
   ]
  },
  {
   "cell_type": "markdown",
   "id": "02801695",
   "metadata": {
    "id": "7f5bf2ba44ff49f99092513d4f5c8c39"
   },
   "source": [
    "### Run a data drift scenario <a name=\"data_drift_scenario\"></a>"
   ]
  },
  {
   "cell_type": "code",
   "execution_count": 16,
   "id": "82a56cb5",
   "metadata": {
    "id": "81011dbfa74f406e8474cadcea84cc51"
   },
   "outputs": [
    {
     "name": "stderr",
     "output_type": "stream",
     "text": [
      "INFO:root:ModelPerturbator class loaded with default configuration\n",
      "INFO:botocore.credentials:Found credentials in environment variables.\n",
      "DEBUG:mlmonitor.src:_get_data with dataset_type :train\n",
      "DEBUG:mlmonitor.src:_get_data with dataset_type :train\n",
      "DEBUG:mlmonitor.src:_get_data_location with dataset_type :train\n",
      "INFO:mlmonitor.src:10/100 perturbed samples\n",
      "INFO:mlmonitor.src:explicit payload logging for non-WML model serving environment with 100 requests.\n",
      "INFO:mlmonitor.src:explicit payload logging with 100 requests .\n"
     ]
    },
    {
     "name": "stdout",
     "output_type": "stream",
     "text": [
      "response_time 574ms\n",
      "\n",
      "\n",
      "==========================================================================================\n",
      "\n",
      " Waiting for end of storing records with request id: 3c15006f-33ad-4936-b249-ba6b6f683aae \n",
      "\n",
      "==========================================================================================\n",
      "\n",
      "\n",
      "\n",
      "pending\n",
      "active\n",
      "\n",
      "---------------------------------------\n",
      " Successfully finished storing records \n",
      "---------------------------------------\n",
      "\n",
      "\n"
     ]
    },
    {
     "name": "stderr",
     "output_type": "stream",
     "text": [
      "INFO:mlmonitor.src:102 records in the payload logging table before adding 100\n",
      "INFO:mlmonitor.src:202 records in the payload logging table after adding 100\n",
      "DEBUG:mlmonitor.src:\n",
      "Deployment Name sm-gcr-scikit-2024-03-19-19-48-17-824\n",
      "subscription_id 30cbf2a2-d6cd-4290-b2bf-1d56e0bff488\n",
      "\n",
      "DEBUG:mlmonitor.src:existing monitors\n",
      "{\n",
      "    \"quality\": \"edcbf395-f2d3-4e97-93f0-1714aafbc79f\",\n",
      "    \"fairness\": \"60323fda-77c3-49c8-81da-ec19b98d767f\",\n",
      "    \"explainability\": \"5ae53e73-0d4e-440f-b482-d4b61fe7cc2b\",\n",
      "    \"mrm\": \"7bf00299-3063-49db-ad7d-84aaf937aa09\"\n",
      "}\n",
      "DEBUG:mlmonitor.src:_get_data with dataset_type :train\n",
      "DEBUG:mlmonitor.src:_get_data with dataset_type :train\n",
      "DEBUG:mlmonitor.src:_get_data_location with dataset_type :train\n",
      "INFO:mlmonitor.src:20/100 perturbed samples\n",
      "INFO:mlmonitor.src:explicit payload logging for non-WML model serving environment with 100 requests.\n",
      "INFO:mlmonitor.src:explicit payload logging with 100 requests .\n"
     ]
    },
    {
     "name": "stdout",
     "output_type": "stream",
     "text": [
      "response_time 556ms\n",
      "\n",
      "\n",
      "==========================================================================================\n",
      "\n",
      " Waiting for end of storing records with request id: 28cf1c55-21e1-4e77-baf8-fb1d94979296 \n",
      "\n",
      "==========================================================================================\n",
      "\n",
      "\n",
      "\n",
      "active\n",
      "\n",
      "---------------------------------------\n",
      " Successfully finished storing records \n",
      "---------------------------------------\n",
      "\n",
      "\n"
     ]
    },
    {
     "name": "stderr",
     "output_type": "stream",
     "text": [
      "INFO:mlmonitor.src:202 records in the payload logging table before adding 100\n",
      "INFO:mlmonitor.src:302 records in the payload logging table after adding 100\n",
      "DEBUG:mlmonitor.src:\n",
      "Deployment Name sm-gcr-scikit-2024-03-19-19-48-17-824\n",
      "subscription_id 30cbf2a2-d6cd-4290-b2bf-1d56e0bff488\n",
      "\n",
      "DEBUG:mlmonitor.src:existing monitors\n",
      "{\n",
      "    \"quality\": \"edcbf395-f2d3-4e97-93f0-1714aafbc79f\",\n",
      "    \"fairness\": \"60323fda-77c3-49c8-81da-ec19b98d767f\",\n",
      "    \"explainability\": \"5ae53e73-0d4e-440f-b482-d4b61fe7cc2b\",\n",
      "    \"mrm\": \"7bf00299-3063-49db-ad7d-84aaf937aa09\"\n",
      "}\n",
      "DEBUG:mlmonitor.src:_get_data with dataset_type :train\n",
      "DEBUG:mlmonitor.src:_get_data with dataset_type :train\n",
      "DEBUG:mlmonitor.src:_get_data_location with dataset_type :train\n",
      "INFO:mlmonitor.src:30/100 perturbed samples\n",
      "INFO:mlmonitor.src:explicit payload logging for non-WML model serving environment with 100 requests.\n",
      "INFO:mlmonitor.src:explicit payload logging with 100 requests .\n"
     ]
    },
    {
     "name": "stdout",
     "output_type": "stream",
     "text": [
      "response_time 522ms\n",
      "\n",
      "\n",
      "==========================================================================================\n",
      "\n",
      " Waiting for end of storing records with request id: 59b562a1-35d8-4b66-bbdc-fe256d674147 \n",
      "\n",
      "==========================================================================================\n",
      "\n",
      "\n",
      "\n",
      "active\n",
      "\n",
      "---------------------------------------\n",
      " Successfully finished storing records \n",
      "---------------------------------------\n",
      "\n",
      "\n"
     ]
    },
    {
     "name": "stderr",
     "output_type": "stream",
     "text": [
      "INFO:mlmonitor.src:302 records in the payload logging table before adding 100\n",
      "INFO:mlmonitor.src:402 records in the payload logging table after adding 100\n",
      "DEBUG:mlmonitor.src:\n",
      "Deployment Name sm-gcr-scikit-2024-03-19-19-48-17-824\n",
      "subscription_id 30cbf2a2-d6cd-4290-b2bf-1d56e0bff488\n",
      "\n",
      "DEBUG:mlmonitor.src:existing monitors\n",
      "{\n",
      "    \"quality\": \"edcbf395-f2d3-4e97-93f0-1714aafbc79f\",\n",
      "    \"fairness\": \"60323fda-77c3-49c8-81da-ec19b98d767f\",\n",
      "    \"explainability\": \"5ae53e73-0d4e-440f-b482-d4b61fe7cc2b\",\n",
      "    \"mrm\": \"7bf00299-3063-49db-ad7d-84aaf937aa09\"\n",
      "}\n",
      "DEBUG:mlmonitor.src:_get_data with dataset_type :train\n",
      "DEBUG:mlmonitor.src:_get_data with dataset_type :train\n",
      "DEBUG:mlmonitor.src:_get_data_location with dataset_type :train\n",
      "INFO:mlmonitor.src:20/100 perturbed samples\n",
      "INFO:mlmonitor.src:explicit payload logging for non-WML model serving environment with 100 requests.\n",
      "INFO:mlmonitor.src:explicit payload logging with 100 requests .\n"
     ]
    },
    {
     "name": "stdout",
     "output_type": "stream",
     "text": [
      "response_time 523ms\n",
      "\n",
      "\n",
      "==========================================================================================\n",
      "\n",
      " Waiting for end of storing records with request id: e7939fb3-df88-48c1-ad49-f8069e8ed95b \n",
      "\n",
      "==========================================================================================\n",
      "\n",
      "\n",
      "\n",
      "active\n",
      "\n",
      "---------------------------------------\n",
      " Successfully finished storing records \n",
      "---------------------------------------\n",
      "\n",
      "\n"
     ]
    },
    {
     "name": "stderr",
     "output_type": "stream",
     "text": [
      "INFO:mlmonitor.src:402 records in the payload logging table before adding 100\n",
      "INFO:mlmonitor.src:502 records in the payload logging table after adding 100\n",
      "DEBUG:mlmonitor.src:\n",
      "Deployment Name sm-gcr-scikit-2024-03-19-19-48-17-824\n",
      "subscription_id 30cbf2a2-d6cd-4290-b2bf-1d56e0bff488\n",
      "\n",
      "DEBUG:mlmonitor.src:existing monitors\n",
      "{\n",
      "    \"quality\": \"edcbf395-f2d3-4e97-93f0-1714aafbc79f\",\n",
      "    \"fairness\": \"60323fda-77c3-49c8-81da-ec19b98d767f\",\n",
      "    \"explainability\": \"5ae53e73-0d4e-440f-b482-d4b61fe7cc2b\",\n",
      "    \"mrm\": \"7bf00299-3063-49db-ad7d-84aaf937aa09\"\n",
      "}\n",
      "DEBUG:mlmonitor.src:_get_data with dataset_type :train\n",
      "DEBUG:mlmonitor.src:_get_data with dataset_type :train\n",
      "DEBUG:mlmonitor.src:_get_data_location with dataset_type :train\n",
      "INFO:mlmonitor.src:10/100 perturbed samples\n",
      "INFO:mlmonitor.src:explicit payload logging for non-WML model serving environment with 100 requests.\n",
      "INFO:mlmonitor.src:explicit payload logging with 100 requests .\n"
     ]
    },
    {
     "name": "stdout",
     "output_type": "stream",
     "text": [
      "response_time 561ms\n",
      "\n",
      "\n",
      "==========================================================================================\n",
      "\n",
      " Waiting for end of storing records with request id: 4bd6ffcb-7962-4eda-84cc-5abf738003e3 \n",
      "\n",
      "==========================================================================================\n",
      "\n",
      "\n",
      "\n",
      "active\n",
      "\n",
      "---------------------------------------\n",
      " Successfully finished storing records \n",
      "---------------------------------------\n",
      "\n",
      "\n"
     ]
    },
    {
     "name": "stderr",
     "output_type": "stream",
     "text": [
      "INFO:mlmonitor.src:502 records in the payload logging table before adding 100\n",
      "INFO:mlmonitor.src:602 records in the payload logging table after adding 100\n",
      "DEBUG:mlmonitor.src:\n",
      "Deployment Name sm-gcr-scikit-2024-03-19-19-48-17-824\n",
      "subscription_id 30cbf2a2-d6cd-4290-b2bf-1d56e0bff488\n",
      "\n",
      "DEBUG:mlmonitor.src:existing monitors\n",
      "{\n",
      "    \"quality\": \"edcbf395-f2d3-4e97-93f0-1714aafbc79f\",\n",
      "    \"fairness\": \"60323fda-77c3-49c8-81da-ec19b98d767f\",\n",
      "    \"explainability\": \"5ae53e73-0d4e-440f-b482-d4b61fe7cc2b\",\n",
      "    \"mrm\": \"7bf00299-3063-49db-ad7d-84aaf937aa09\"\n",
      "}\n"
     ]
    }
   ],
   "source": [
    "model_perturbation = ModelPerturbator(\n",
    "        source_dir=source_dir,\n",
    "        monitor_type='drift',\n",
    "        scenario_id='single_column_1',\n",
    "    )\n",
    "\n",
    "model_perturbation.ratios = [0.1, 0.2, 0.3, 0.2, 0.1]\n",
    "\n",
    "model_use_case.data_drift_scenario(model_perturbation)"
   ]
  },
  {
   "cell_type": "markdown",
   "id": "3fa98afe",
   "metadata": {
    "id": "1fec5b7bb335441c8e117896084c0c48"
   },
   "source": [
    "### Delete Resources related to Model <a name=\"delete_resources\"></a>"
   ]
  },
  {
   "cell_type": "code",
   "execution_count": null,
   "id": "a8901b7e-a151-47a4-98de-bf06019bfef3",
   "metadata": {},
   "outputs": [],
   "source": [
    "model_use_case.display_states()"
   ]
  },
  {
   "cell_type": "code",
   "execution_count": 26,
   "id": "428ae6f3",
   "metadata": {
    "id": "f5ce3b67fc4e432992d06af23cdb1baf"
   },
   "outputs": [
    {
     "name": "stderr",
     "output_type": "stream",
     "text": [
      "INFO:mlmonitor.src:deleting [aws] resources for [sm-gcr-scikit-2024-03-19-19-48-17-824]...\n"
     ]
    },
    {
     "name": "stdout",
     "output_type": "stream",
     "text": [
      "https://cpd-cpd-watsonx.apps.65ef0f18e0ddf2001e63add5.cloud.techzone.ibm.com/v1/aigov/model_inventory/model_entries/b9eb0ea9-ac72-438d-ada8-8ac1f0e80851/models?catalog_id=9974a224-8dfd-4db8-b57b-537701403b30&allow_metadata_on_dpr_deny=true\n",
      "https://cpd-cpd-watsonx.apps.65ef0f18e0ddf2001e63add5.cloud.techzone.ibm.com/v1/aigov/model_inventory/models/a74b041c-e5e4-4339-b2e2-f5e067860e90/model_entry?catalog_id=9221182f-d9a5-4458-a9b4-a4a1f652b0e8\n"
     ]
    },
    {
     "name": "stderr",
     "output_type": "stream",
     "text": [
      "INFO:mlmonitor.src:Model asset [a74b041c-e5e4-4339-b2e2-f5e067860e90] for deployment [sm-gcr-scikit-2024-03-19-19-48-17-824] unlinked from catalog_id [9974a224-8dfd-4db8-b57b-537701403b30] model_use_case_id [b9eb0ea9-ac72-438d-ada8-8ac1f0e80851]\n"
     ]
    },
    {
     "name": "stdout",
     "output_type": "stream",
     "text": [
      "https://cpd-cpd-watsonx.apps.65ef0f18e0ddf2001e63add5.cloud.techzone.ibm.com/v2/assets/a74b041c-e5e4-4339-b2e2-f5e067860e90?catalog_id=9221182f-d9a5-4458-a9b4-a4a1f652b0e8\n"
     ]
    },
    {
     "name": "stderr",
     "output_type": "stream",
     "text": [
      "INFO:mlmonitor.src:Model asset [a74b041c-e5e4-4339-b2e2-f5e067860e90] for deployment [sm-gcr-scikit-2024-03-19-19-48-17-824] Deleted\n"
     ]
    },
    {
     "name": "stdout",
     "output_type": "stream",
     "text": [
      "https://cpd-cpd-watsonx.apps.65ef0f18e0ddf2001e63add5.cloud.techzone.ibm.com/v1/aigov/model_inventory/models/e3d32e3b-af78-4684-a976-7296ef47b2b0/model_entry?catalog_id=9221182f-d9a5-4458-a9b4-a4a1f652b0e8\n"
     ]
    },
    {
     "name": "stderr",
     "output_type": "stream",
     "text": [
      "INFO:mlmonitor.src:Model asset [e3d32e3b-af78-4684-a976-7296ef47b2b0] for deployment [sm-gcr-scikit-2024-03-19-19-48-17-824] unlinked from catalog_id [9974a224-8dfd-4db8-b57b-537701403b30] model_use_case_id [b9eb0ea9-ac72-438d-ada8-8ac1f0e80851]\n"
     ]
    },
    {
     "name": "stdout",
     "output_type": "stream",
     "text": [
      "https://cpd-cpd-watsonx.apps.65ef0f18e0ddf2001e63add5.cloud.techzone.ibm.com/v2/assets/e3d32e3b-af78-4684-a976-7296ef47b2b0?catalog_id=9221182f-d9a5-4458-a9b4-a4a1f652b0e8\n"
     ]
    },
    {
     "name": "stderr",
     "output_type": "stream",
     "text": [
      "INFO:mlmonitor.src:Model asset [e3d32e3b-af78-4684-a976-7296ef47b2b0] for deployment [sm-gcr-scikit-2024-03-19-19-48-17-824] Deleted\n",
      "INFO:mlmonitor.src:deleted items for model use case sm-gcr-scikit-2024-03-19-19-48-17-824: {'wos': 1, 'factsheets': 2, 'serving': 1}\n"
     ]
    },
    {
     "data": {
      "text/plain": [
       "{'wos': 1, 'factsheets': 2, 'serving': 1}"
      ]
     },
     "execution_count": 26,
     "metadata": {},
     "output_type": "execute_result"
    }
   ],
   "source": [
    "model_use_case.cleanup()"
   ]
  },
  {
   "cell_type": "code",
   "execution_count": null,
   "id": "5fdbdc33",
   "metadata": {},
   "outputs": [],
   "source": []
  }
 ],
 "metadata": {
  "celltoolbar": "Tags",
  "instance_type": "ml.t3.medium",
  "kernelspec": {
   "display_name": "Python 3 (ipykernel)",
   "language": "python",
   "name": "python3"
  },
  "language_info": {
   "codemirror_mode": {
    "name": "ipython",
    "version": 3
   },
   "file_extension": ".py",
   "mimetype": "text/x-python",
   "name": "python",
   "nbconvert_exporter": "python",
   "pygments_lexer": "ipython3",
   "version": "3.10.13"
  },
  "notice": "Copyright 2017 Amazon.com, Inc. or its affiliates. All Rights Reserved.  Licensed under the Apache License, Version 2.0 (the \"License\"). You may not use this file except in compliance with the License. A copy of the License is located at http://aws.amazon.com/apache2.0/ or in the \"license\" file accompanying this file. This file is distributed on an \"AS IS\" BASIS, WITHOUT WARRANTIES OR CONDITIONS OF ANY KIND, either express or implied. See the License for the specific language governing permissions and limitations under the License.",
  "papermill": {
   "default_parameters": {},
   "duration": 311.728138,
   "end_time": "2021-06-07T00:14:55.273560",
   "environment_variables": {},
   "exception": true,
   "input_path": "xgboost_customer_churn.ipynb",
   "output_path": "/opt/ml/processing/output/xgboost_customer_churn-2021-06-07-00-06-03.ipynb",
   "parameters": {
    "kms_key": "arn:aws:kms:us-west-2:521695447989:key/6e9984db-50cf-4c7e-926c-877ec47a8b25"
   },
   "start_time": "2021-06-07T00:09:43.545422",
   "version": "2.3.3"
  }
 },
 "nbformat": 4,
 "nbformat_minor": 5
}
