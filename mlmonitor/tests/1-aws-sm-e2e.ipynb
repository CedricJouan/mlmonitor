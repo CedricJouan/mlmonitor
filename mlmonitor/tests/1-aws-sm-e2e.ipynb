{
 "cells": [
  {
   "cell_type": "markdown",
   "id": "7d9eef46-bc5a-45a2-b414-948156c9d3e7",
   "metadata": {},
   "source": [
    "## AWS Model Use Case e2e tests"
   ]
  },
  {
   "cell_type": "markdown",
   "id": "07b755d0",
   "metadata": {},
   "source": [
    "Make sure `mlmonitor` is installed"
   ]
  },
  {
   "cell_type": "code",
   "execution_count": null,
   "id": "d446d75f",
   "metadata": {},
   "outputs": [],
   "source": [
    "import os\n",
    "import sys\n",
    "# for Sagemaker models \n",
    "sys.path.append('../..')\n",
    "os.environ['MONITOR_CONFIG_FILE'] = '../../credentials_uploaded2cp4d.cfg'"
   ]
  },
  {
   "cell_type": "code",
   "execution_count": null,
   "id": "88814937-83cc-45d0-bebf-67372f54cd05",
   "metadata": {},
   "outputs": [],
   "source": [
    "import mlmonitor \n",
    "from mlmonitor import SageMakerModelUseCase"
   ]
  },
  {
   "cell_type": "markdown",
   "id": "1b37370e",
   "metadata": {},
   "source": [
    "Select model use case here e.g `use_case_gcr`"
   ]
  },
  {
   "cell_type": "code",
   "execution_count": null,
   "id": "f2e00c5b-7040-44b3-84cb-72abb74fb920",
   "metadata": {},
   "outputs": [],
   "source": [
    "model_entry_id = ''\n",
    "model_endpoint = 'sm-cc-xgboost-2023-02-16-21-54-44-477'\n",
    "source_dir = 'use_case_churn'\n",
    "\n",
    "# source_dir = 'use_case_mnist_tf'\n",
    "# model_entry_id = mnist_model_entry_id\n",
    "# model_endpoint = 'sm-mnist-cnn-tf-keras-2023-02-14-05-35-27-980'\n",
    "\n",
    "#source_dir = 'use_case_gcr'\n",
    "#model_entry_id = gcr_model_entry_id\n",
    "#model_endpoint = 'sm-gcr-scikit-2023-02-14-14-45-29-198'"
   ]
  },
  {
   "cell_type": "markdown",
   "id": "bd790548-9f6e-4659-8d60-6f075316a05a",
   "metadata": {},
   "source": [
    "### SageMaker"
   ]
  },
  {
   "cell_type": "code",
   "execution_count": null,
   "id": "06caca00",
   "metadata": {},
   "outputs": [],
   "source": [
    "# for Sagemaker models \n",
    "from mlmonitor import SageMakerModelUseCase\n",
    "sm_model_uc = SageMakerModelUseCase(source_dir=source_dir, catalog_id=catalog_id, model_entry_id=model_entry_id)"
   ]
  },
  {
   "cell_type": "markdown",
   "id": "c88d9f47-8d39-4924-817b-d3c029e62d94",
   "metadata": {},
   "source": [
    "## Restore state if needed"
   ]
  },
  {
   "cell_type": "code",
   "execution_count": null,
   "id": "632caf0e-094f-471a-812d-e6cfabb7b795",
   "metadata": {},
   "outputs": [],
   "source": [
    "if model_endpoint:\n",
    "    sm_model_uc.derive_model_states(model_endpoint)"
   ]
  },
  {
   "cell_type": "code",
   "execution_count": null,
   "id": "37cda661-71db-412d-ab36-fc7162f247d5",
   "metadata": {},
   "outputs": [],
   "source": [
    "sm_model_uc.json_object()"
   ]
  },
  {
   "cell_type": "markdown",
   "id": "39dd6cfd-e2a4-4086-b1ea-b96e1a7bd489",
   "metadata": {},
   "source": [
    "## Train"
   ]
  },
  {
   "cell_type": "code",
   "execution_count": null,
   "id": "f8ea8cb7-670c-4ac6-899b-f38d2ecd57c7",
   "metadata": {},
   "outputs": [],
   "source": [
    "sm_model_uc.cleanup()"
   ]
  },
  {
   "cell_type": "code",
   "execution_count": null,
   "id": "1ef7c676-cc1d-4590-84aa-b271d9cc7a07",
   "metadata": {},
   "outputs": [],
   "source": [
    "print(sm_model_uc.job_name)\n",
    "print(sm_model_uc.model_data)"
   ]
  },
  {
   "cell_type": "code",
   "execution_count": null,
   "id": "a9e88a1f-5b45-4954-ba6d-7ce47576b381",
   "metadata": {},
   "outputs": [],
   "source": [
    "sm_model_uc.display_states()"
   ]
  },
  {
   "cell_type": "code",
   "execution_count": null,
   "id": "c1e46dba-e0b9-43c0-b349-0a4077e23015",
   "metadata": {},
   "outputs": [],
   "source": [
    "from mlmonitor.src.factsheets.utils import FactsheetHelpers,get_model_id_by_model_name\n",
    "from mlmonitor.src import API_KEY\n",
    "\n",
    "fs_helpers = FactsheetHelpers(\n",
    "    api_key=API_KEY,\n",
    "    container_type=\"catalog\",\n",
    "    container_id=sm_model_uc.catalog_id,\n",
    "    model_entry_id=sm_model_uc.model_entry_id,\n",
    ")\n",
    "models = fs_helpers.get_models()"
   ]
  },
  {
   "cell_type": "code",
   "execution_count": null,
   "id": "e3f2bb20-ac6a-4d1a-9877-2e859afd598c",
   "metadata": {},
   "outputs": [],
   "source": [
    "models"
   ]
  },
  {
   "cell_type": "code",
   "execution_count": null,
   "id": "61ca7448-1702-4caa-ac36-1c882de76989",
   "metadata": {},
   "outputs": [],
   "source": [
    "get_model_id_by_model_name(models=models,model_name=sm_model_uc.job_name,state= \"development\")"
   ]
  },
  {
   "cell_type": "markdown",
   "id": "8a716274-80d7-45cc-8505-fc16a05f203c",
   "metadata": {},
   "source": [
    "## Deploy"
   ]
  },
  {
   "cell_type": "code",
   "execution_count": null,
   "id": "013c3753-d9c7-45c4-a3fb-6b5876a9d83e",
   "metadata": {},
   "outputs": [],
   "source": [
    "sm_model_uc.deploy()"
   ]
  },
  {
   "cell_type": "code",
   "execution_count": null,
   "id": "78184408-b327-4e13-8300-27fb5a98936d",
   "metadata": {},
   "outputs": [],
   "source": [
    "sm_model_uc.display_states()"
   ]
  },
  {
   "cell_type": "code",
   "execution_count": null,
   "id": "33413616-57d2-444e-99a1-c2602b699240",
   "metadata": {},
   "outputs": [],
   "source": [
    "print(sm_model_uc.job_name)\n",
    "print(sm_model_uc.model_endpoint)"
   ]
  },
  {
   "cell_type": "markdown",
   "id": "0e6bd304-7598-49ef-bba1-f84880f7e483",
   "metadata": {},
   "source": [
    "## Score model"
   ]
  },
  {
   "cell_type": "code",
   "execution_count": null,
   "id": "e0f4fcaa-21e8-4a95-b309-ca1ccaf3513e",
   "metadata": {},
   "outputs": [],
   "source": [
    "sm_model_uc.score_model()"
   ]
  },
  {
   "cell_type": "markdown",
   "id": "925646ab-f1b2-437c-a0c7-0b900b7a280b",
   "metadata": {},
   "source": [
    "## Govern"
   ]
  },
  {
   "cell_type": "code",
   "execution_count": null,
   "id": "5505fbbc-9f1a-4a75-8f74-b55a8eb20b01",
   "metadata": {},
   "outputs": [],
   "source": [
    "sm_model_uc.govern()"
   ]
  },
  {
   "cell_type": "code",
   "execution_count": null,
   "id": "552c237e-1056-4e56-8b2e-6e0b223cb8d1",
   "metadata": {},
   "outputs": [],
   "source": [
    "sm_model_uc.display_states()"
   ]
  },
  {
   "cell_type": "code",
   "execution_count": null,
   "id": "450a595e-5b06-4d19-9b47-d2979b8d5d34",
   "metadata": {},
   "outputs": [],
   "source": [
    "from mlmonitor.src.factsheets.utils import get_model_id_by_deployment_name\n",
    "models = fs_helpers.get_models()\n",
    "get_model_id_by_deployment_name(models=models,deployment_name=sm_model_uc.model_endpoint)"
   ]
  },
  {
   "cell_type": "code",
   "execution_count": null,
   "id": "d5ee2120-19ae-42db-bfcc-bf6a30b3001a",
   "metadata": {},
   "outputs": [],
   "source": [
    "get_model_id_by_deployment_name(models=models,deployment_name=sm_model_uc.model_endpoint,key='deployments')"
   ]
  },
  {
   "cell_type": "markdown",
   "id": "0e0f5094-c72f-4f1a-9c04-39f393c3c6f4",
   "metadata": {},
   "source": [
    "## Monitor"
   ]
  },
  {
   "cell_type": "code",
   "execution_count": null,
   "id": "1867d047-dda2-4431-a17a-0bca3abbabf9",
   "metadata": {},
   "outputs": [],
   "source": [
    "sm_model_uc.monitor()"
   ]
  },
  {
   "cell_type": "markdown",
   "id": "86154ec6-fb2b-4899-a211-f9588493d5aa",
   "metadata": {},
   "source": [
    "#### run monitor second time => should detect model already monitored"
   ]
  },
  {
   "cell_type": "code",
   "execution_count": null,
   "id": "f8054321-0f7e-4a40-b74b-29606e66351c",
   "metadata": {},
   "outputs": [],
   "source": [
    "sm_model_uc.monitor()"
   ]
  },
  {
   "cell_type": "code",
   "execution_count": null,
   "id": "b5a229bf-5f9d-497e-b5ed-7d5d47633588",
   "metadata": {},
   "outputs": [],
   "source": [
    "print(sm_model_uc.subscription_id)\n",
    "sm_model_uc.display_states()"
   ]
  },
  {
   "cell_type": "code",
   "execution_count": null,
   "id": "14450418-8631-4d95-8345-4c569addcd51",
   "metadata": {},
   "outputs": [],
   "source": [
    "filename = f\"./{source_dir}_monitor_adadelta_sm_completed.json\"\n",
    "sm_model_uc.save_use_case(filename)"
   ]
  },
  {
   "cell_type": "markdown",
   "id": "f16a97f2-5e03-4529-ad38-dfed1cee2747",
   "metadata": {},
   "source": [
    "## Quality"
   ]
  },
  {
   "cell_type": "code",
   "execution_count": null,
   "id": "e9f6cca4-aeda-4a76-b3ad-038fdfc25964",
   "metadata": {},
   "outputs": [],
   "source": [
    "sm_model_uc.configure_quality_monitor()"
   ]
  },
  {
   "cell_type": "markdown",
   "id": "0d79e54d-3a6b-46f6-98a5-61b1d086edf9",
   "metadata": {},
   "source": [
    "#### run configure_quality_monitor second time => should detect quality monitor exists"
   ]
  },
  {
   "cell_type": "code",
   "execution_count": null,
   "id": "8513479f-fb17-4536-a993-ef25b6d87d07",
   "metadata": {},
   "outputs": [],
   "source": [
    "sm_model_uc.configure_quality_monitor()"
   ]
  },
  {
   "cell_type": "markdown",
   "id": "89e7eb1b-9ce2-4d7a-9876-25a31fcf9535",
   "metadata": {},
   "source": [
    "## Fairness"
   ]
  },
  {
   "cell_type": "code",
   "execution_count": null,
   "id": "2b761a88-8fad-40ed-bcf9-3a53bd6da8d0",
   "metadata": {},
   "outputs": [],
   "source": [
    "sm_model_uc.configure_fairness_monitor()"
   ]
  },
  {
   "cell_type": "markdown",
   "id": "ffa5d30a-bd5b-4f34-b6a7-ac2ba824d58a",
   "metadata": {},
   "source": [
    "#### run configure_fairness_monitor second time => should detect fairness monitor exists"
   ]
  },
  {
   "cell_type": "code",
   "execution_count": null,
   "id": "f00e5fcb-dcc5-4d85-8440-e4771084c6f6",
   "metadata": {},
   "outputs": [],
   "source": [
    "sm_model_uc.configure_fairness_monitor()"
   ]
  },
  {
   "cell_type": "markdown",
   "id": "feaaf1aa-9b37-49e5-92f3-fc25d4b3511f",
   "metadata": {},
   "source": [
    "## Drift"
   ]
  },
  {
   "cell_type": "code",
   "execution_count": null,
   "id": "2a4806a1-3d05-48cc-9a3e-1cff62e42961",
   "metadata": {},
   "outputs": [],
   "source": [
    "sm_model_uc.configure_drift_monitor()"
   ]
  },
  {
   "cell_type": "markdown",
   "id": "cefcde2f-44c9-4834-a2e5-3aba5b5b107f",
   "metadata": {},
   "source": [
    "#### run configure_drift_monitor second time => should detect drift monitor exists"
   ]
  },
  {
   "cell_type": "code",
   "execution_count": null,
   "id": "bc90e515-18c7-478e-a384-98a1526167a0",
   "metadata": {},
   "outputs": [],
   "source": [
    "sm_model_uc.configure_drift_monitor()"
   ]
  },
  {
   "cell_type": "markdown",
   "id": "9c19d6f3-9769-44f8-8a4b-edf9a71c062f",
   "metadata": {},
   "source": [
    "## Explainability"
   ]
  },
  {
   "cell_type": "code",
   "execution_count": null,
   "id": "8fb2dff1-d6a3-4cc2-b4be-1f78bd9b66cb",
   "metadata": {},
   "outputs": [],
   "source": [
    "sm_model_uc.configure_explainability_monitor()"
   ]
  },
  {
   "cell_type": "markdown",
   "id": "cc3ec1dd-7d76-47d0-a183-6445fdc7e927",
   "metadata": {},
   "source": [
    "#### run configure_explainability_monitor second time => should detect drift monitor exists"
   ]
  },
  {
   "cell_type": "code",
   "execution_count": null,
   "id": "337573c8-9715-495b-9ac2-8699df4285db",
   "metadata": {},
   "outputs": [],
   "source": [
    "sm_model_uc.configure_explainability_monitor()"
   ]
  },
  {
   "cell_type": "markdown",
   "id": "e7289cff-03ee-40c3-8cd3-e045f2582802",
   "metadata": {},
   "source": [
    "## Log Payload"
   ]
  },
  {
   "cell_type": "code",
   "execution_count": null,
   "id": "0481c5a0-56ac-42db-9e5e-372e6c7778e4",
   "metadata": {},
   "outputs": [],
   "source": [
    "sm_model_uc.log_payload()"
   ]
  },
  {
   "cell_type": "code",
   "execution_count": null,
   "id": "f3fb8902-db82-4b78-bdc4-ddb3453875fc",
   "metadata": {},
   "outputs": [],
   "source": [
    "from mlmonitor.src.wos import wos_client\n",
    "from ibm_watson_openscale.supporting_classes.enums import DataSetTypes, TargetTypes\n",
    "\n",
    "payload_dataset_id = (\n",
    "    wos_client.data_sets.list(\n",
    "        type=DataSetTypes.PAYLOAD_LOGGING,\n",
    "        target_target_id=sm_model_uc.subscription_id,\n",
    "        target_target_type=TargetTypes.SUBSCRIPTION,\n",
    "    )\n",
    "    .result.data_sets[0]\n",
    "    .metadata.id\n",
    ")\n",
    "    \n",
    "pl_records_count = wos_client.data_sets.get_records_count(payload_dataset_id)\n",
    "print(pl_records_count)"
   ]
  },
  {
   "cell_type": "markdown",
   "id": "6bf52893-ba0c-4a09-912e-d5c8c0826df1",
   "metadata": {},
   "source": [
    "## Log Feedback"
   ]
  },
  {
   "cell_type": "code",
   "execution_count": null,
   "id": "6af576b9-4688-473e-bf22-bfae18eadab4",
   "metadata": {},
   "outputs": [],
   "source": [
    "sm_model_uc.log_feedback()"
   ]
  },
  {
   "cell_type": "code",
   "execution_count": null,
   "id": "ccfe2ee3-d9da-49a6-b819-683738e6edfc",
   "metadata": {},
   "outputs": [],
   "source": [
    "from mlmonitor.src.wos import wos_client\n",
    "from ibm_watson_openscale.supporting_classes.enums import DataSetTypes, TargetTypes\n",
    "\n",
    "feedback_dataset_id = (\n",
    "    wos_client.data_sets.list(\n",
    "        type=DataSetTypes.FEEDBACK,\n",
    "        target_target_id=sm_model_uc.subscription_id,\n",
    "        target_target_type=TargetTypes.SUBSCRIPTION,\n",
    "    )\n",
    "    .result.data_sets[0]\n",
    "    .metadata.id\n",
    ")\n",
    "    \n",
    "fb_records_count = wos_client.data_sets.get_records_count(feedback_dataset_id)\n",
    "print(fb_records_count)"
   ]
  },
  {
   "cell_type": "markdown",
   "id": "434b90ba-dc97-4f94-bcc1-b0661dfa8474",
   "metadata": {},
   "source": [
    "## Evaluate"
   ]
  },
  {
   "cell_type": "code",
   "execution_count": null,
   "id": "e398c5a7-f49a-4225-8ac7-1be6d8d67e6f",
   "metadata": {},
   "outputs": [],
   "source": [
    "sm_model_uc.evaluate_model()"
   ]
  },
  {
   "cell_type": "code",
   "execution_count": null,
   "id": "1d732902-5645-48b3-8ce9-79597f018d0e",
   "metadata": {},
   "outputs": [],
   "source": [
    "from mlmonitor.src.factsheets.utils import get_model_id_by_deployment_name\n",
    "models = fs_helpers.get_models()\n",
    "get_model_id_by_deployment_name(models=models,deployment_name=sm_model_uc.model_endpoint)"
   ]
  },
  {
   "cell_type": "code",
   "execution_count": null,
   "id": "b5114a48-c086-46ed-ae3e-91bb8d0cf9bf",
   "metadata": {},
   "outputs": [],
   "source": [
    "get_model_id_by_deployment_name(models=models,deployment_name=sm_model_uc.model_endpoint,key='deployments')"
   ]
  },
  {
   "cell_type": "code",
   "execution_count": null,
   "id": "109b63f5-38f7-4d5b-ad69-8bc34a8f31b3",
   "metadata": {},
   "outputs": [],
   "source": [
    "models"
   ]
  },
  {
   "cell_type": "markdown",
   "id": "2f1c8e20-3dac-4810-a43d-05879082906e",
   "metadata": {},
   "source": [
    "## Review Use Vase Object"
   ]
  },
  {
   "cell_type": "code",
   "execution_count": null,
   "id": "8d561492-ea28-4b2d-992b-1d7566e3f73a",
   "metadata": {},
   "outputs": [],
   "source": [
    "sm_model_uc.json_object()"
   ]
  },
  {
   "cell_type": "markdown",
   "id": "7bbe83c2-9cfa-42b0-81d4-0154dfda70e9",
   "metadata": {},
   "source": [
    "## Save states"
   ]
  },
  {
   "cell_type": "code",
   "execution_count": null,
   "id": "4b754019-5012-4194-bdc8-541d2ad34f43",
   "metadata": {},
   "outputs": [],
   "source": [
    "filename = f\"./{source_dir}_sm_completed.json\"\n",
    "#sm_model_uc.save_use_case(file=filename)"
   ]
  },
  {
   "cell_type": "markdown",
   "id": "5e86085c-ebf2-4557-be50-a60c58fae3bb",
   "metadata": {},
   "source": [
    "## Restore Model Use Cas from file"
   ]
  },
  {
   "cell_type": "code",
   "execution_count": null,
   "id": "e6bd8949-986a-43f4-8b0f-a4f579c843ee",
   "metadata": {},
   "outputs": [],
   "source": [
    "sm_model_uc_new = SageMakerModelUseCase(source_dir=source_dir, catalog_id=catalog_id, model_entry_id=model_entry_id,file=filename)"
   ]
  },
  {
   "cell_type": "code",
   "execution_count": null,
   "id": "0e27019f-033b-4e5f-b45a-c19170642d77",
   "metadata": {},
   "outputs": [],
   "source": [
    "sm_model_uc_new.json_object()"
   ]
  },
  {
   "cell_type": "markdown",
   "id": "b8f0857a-7a9f-4f01-b71e-0386b09f2258",
   "metadata": {},
   "source": [
    "## Cleanup"
   ]
  },
  {
   "cell_type": "code",
   "execution_count": null,
   "id": "d0ba35c7-7553-4293-a4e5-e605186ff384",
   "metadata": {},
   "outputs": [],
   "source": [
    "sm_model_uc.cleanup()"
   ]
  }
 ],
 "metadata": {
  "kernelspec": {
   "display_name": "Python 3 (ipykernel)",
   "language": "python",
   "name": "python3"
  },
  "language_info": {
   "codemirror_mode": {
    "name": "ipython",
    "version": 3
   },
   "file_extension": ".py",
   "mimetype": "text/x-python",
   "name": "python",
   "nbconvert_exporter": "python",
   "pygments_lexer": "ipython3",
   "version": "3.10.6"
  }
 },
 "nbformat": 4,
 "nbformat_minor": 5
}
